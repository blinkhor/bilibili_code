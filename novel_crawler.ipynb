{
 "cells": [
  {
   "cell_type": "code",
   "execution_count": 1,
   "metadata": {},
   "outputs": [],
   "source": [
    "'''爬取章节'''\n",
    "import requests\n",
    "import chardet\n",
    "import emoji\n",
    "from bs4 import BeautifulSoup\n",
    "'''\n",
    "导入需要的包\n",
    "request-模拟网络请求\n",
    "BeautifulSoup-解析网络页面\n",
    "\n",
    "chardet-获取网络的编码格式\n",
    "emoji-输出时添加emoji(好玩)\n",
    "'''"
   ]
  },
  {
   "cell_type": "code",
   "execution_count": 8,
   "metadata": {},
   "outputs": [],
   "source": [
    "class Novel:\n",
    "    def __init__(self, book_id):\n",
    "        self.ua = {'user-agent': 'Mozilla/5.0 (Windows NT 10.0; Win64; x64) AppleWebKit/537.36 (KHTML, like Gecko) Chrome/80.0.3987.163 Safari/537.36'}\n",
    "        self.book_id = book_id\n",
    "\n",
    "    '''获取簪中录的所有的章节的url'''\n",
    "    def get_url_list(self):\n",
    "        summary_url = 'https://www.fpzw.com/xiaoshuo/' + self.book_id +'/'       \n",
    "        response = requests.get(summary_url, headers=self.ua, timeout = 2)\n",
    "        response.encoding = chardet.detect(response.content)['encoding']\n",
    "        html = BeautifulSoup(response.text)\n",
    "        chapter_url_list = html.find_all('dd')\n",
    "        if response.status_code == 200:\n",
    "            print(emoji.emojize(':heartpulse:', use_aliases=True) + '爬取{}章'.format(len(chapter_url_list)-4))\n",
    "            return [chapter.find('a').get(\"href\") for chapter in chapter_url_list[4:]]\n",
    "        else:\n",
    "            print(emoji.emojize(':smiling_imp:', use_aliases=True) + '链接失败！')\n",
    "            return ''\n",
    "    '''获取簪中录的所有的章节的url的内容'''\n",
    "    def get_novel_chapter(self):\n",
    "        chapter_list = self.get_url_list()\n",
    "        counts = 1\n",
    "        for chapter_url in ['https://www.fpzw.com/xiaoshuo/' + self.book_id + i for i in chapter_list]:\n",
    "            try:\n",
    "                response = requests.get(chapter_url, headers=self.ua, timeout = 3)\n",
    "                response.encoding = chardet.detect(response.content)['encoding']\n",
    "                html = BeautifulSoup(response.text)\n",
    "                content = html.find('p', attrs={'class':'Text'}).get_text().replace('2k小说网欢迎您！本站域名:\"2k小说\"的完整拼音fpzw.com，很好记哦！https://www.fpzw.com 好看的小说','').replace('簪中录最新章节', '').replace('强烈推荐：', '').replace('tongzhi();','').replace('2k小说阅读网','').strip()\n",
    "                with open('./zan_novel.txt', 'a+', encoding='utf-8') as f:\n",
    "                    f.writelines(content)\n",
    "                print(emoji.emojize(':arrow_double_down:', use_aliases=True) + '第{}章'.format(counts))\n",
    "                counts += 1\n",
    "            except:\n",
    "                print('第{}章未获取'.format(counts))\n",
    "                counts += 1\n",
    "        return ''"
   ]
  },
  {
   "cell_type": "code",
   "execution_count": 9,
   "metadata": {
    "tags": [
     "outputPrepend"
    ]
   },
   "outputs": [
    {
     "output_type": "stream",
     "name": "stdout",
     "text": "💗爬取186章\n⏬第1章\n⏬第2章\n⏬第3章\n⏬第4章\n⏬第5章\n⏬第6章\n⏬第7章\n⏬第8章\n⏬第9章\n⏬第10章\n⏬第11章\n⏬第12章\n⏬第13章\n⏬第14章\n⏬第15章\n⏬第16章\n⏬第17章\n⏬第18章\n⏬第19章\n⏬第20章\n⏬第21章\n⏬第22章\n⏬第23章\n⏬第24章\n⏬第25章\n⏬第26章\n⏬第27章\n⏬第28章\n⏬第29章\n第30章未获取\n⏬第31章\n⏬第32章\n⏬第33章\n⏬第34章\n⏬第35章\n⏬第36章\n⏬第37章\n⏬第38章\n⏬第39章\n⏬第40章\n⏬第41章\n⏬第42章\n⏬第43章\n⏬第44章\n⏬第45章\n⏬第46章\n⏬第47章\n⏬第48章\n⏬第49章\n⏬第50章\n第51章未获取\n⏬第52章\n⏬第53章\n⏬第54章\n⏬第55章\n⏬第56章\n⏬第57章\n⏬第58章\n⏬第59章\n⏬第60章\n⏬第61章\n⏬第62章\n⏬第63章\n⏬第64章\n⏬第65章\n⏬第66章\n⏬第67章\n⏬第68章\n⏬第69章\n⏬第70章\n⏬第71章\n⏬第72章\n⏬第73章\n⏬第74章\n第75章未获取\n⏬第76章\n⏬第77章\n⏬第78章\n⏬第79章\n⏬第80章\n⏬第81章\n⏬第82章\n⏬第83章\n⏬第84章\n⏬第85章\n⏬第86章\n⏬第87章\n⏬第88章\n⏬第89章\n⏬第90章\n⏬第91章\n⏬第92章\n⏬第93章\n⏬第94章\n⏬第95章\n⏬第96章\n⏬第97章\n⏬第98章\n⏬第99章\n⏬第100章\n⏬第101章\n⏬第102章\n⏬第103章\n⏬第104章\n⏬第105章\n⏬第106章\n⏬第107章\n⏬第108章\n⏬第109章\n⏬第110章\n⏬第111章\n⏬第112章\n⏬第113章\n⏬第114章\n⏬第115章\n第116章未获取\n⏬第117章\n⏬第118章\n⏬第119章\n⏬第120章\n⏬第121章\n⏬第122章\n⏬第123章\n⏬第124章\n⏬第125章\n⏬第126章\n⏬第127章\n⏬第128章\n⏬第129章\n⏬第130章\n⏬第131章\n第132章未获取\n⏬第133章\n⏬第134章\n⏬第135章\n⏬第136章\n⏬第137章\n⏬第138章\n⏬第139章\n⏬第140章\n⏬第141章\n⏬第142章\n⏬第143章\n⏬第144章\n⏬第145章\n⏬第146章\n⏬第147章\n⏬第148章\n⏬第149章\n⏬第150章\n⏬第151章\n⏬第152章\n⏬第153章\n⏬第154章\n⏬第155章\n⏬第156章\n⏬第157章\n⏬第158章\n⏬第159章\n⏬第160章\n⏬第161章\n⏬第162章\n⏬第163章\n⏬第164章\n⏬第165章\n⏬第166章\n⏬第167章\n⏬第168章\n⏬第169章\n⏬第170章\n⏬第171章\n⏬第172章\n⏬第173章\n⏬第174章\n⏬第175章\n⏬第176章\n⏬第177章\n⏬第178章\n⏬第179章\n⏬第180章\n⏬第181章\n⏬第182章\n⏬第183章\n⏬第184章\n⏬第185章\n⏬第186章\n"
    }
   ],
   "source": [
    "if __name__ == '__main__':\n",
    "    book_id =  '82/82811/' \n",
    "    # 这个是小说网址簪中录后面的一部分 https://www.fpzw.com/xiaoshuo/82/82811/\n",
    "    # 你也可也换用其他小说目录页网址的book_id\n",
    "\n",
    "    spyder = Novel(book_id)\n",
    "    spyder.get_novel_chapter()"
   ]
  },
  {
   "cell_type": "code",
   "execution_count": 1,
   "metadata": {},
   "outputs": [
    {
     "output_type": "stream",
     "name": "stderr",
     "text": "Building prefix dict from the default dictionary ...\nLoading model from cache C:\\Users\\15959\\AppData\\Local\\Temp\\jieba.cache\nLoading model cost 0.950 seconds.\nPrefix dict has been built successfully.\n"
    }
   ],
   "source": [
    "'''绘制词云'''\n",
    "import numpy as np \n",
    "import jieba\n",
    "import collections\n",
    "from PIL import Image\n",
    "import matplotlib.pyplot as plt\n",
    "import wordcloud\n",
    "\n",
    "'''\n",
    "numpy-数据格式，方便对蒙版图片进行格式处理\n",
    "jieba-中文分词\n",
    "collections-统计词频\n",
    "Image-处理蒙版图片\n",
    "plt-显示图片\n",
    "wordcloud-绘制词云\n",
    "'''\n",
    "\n",
    "\n",
    "'''读取文件'''\n",
    "jieba.load_userdict(\"./userdict.txt\")\n",
    "txt = open('./zan_novel.txt', 'r', encoding='utf-8').read()\n",
    "words = jieba.lcut(txt)"
   ]
  },
  {
   "cell_type": "code",
   "execution_count": 2,
   "metadata": {},
   "outputs": [],
   "source": [
    "'''读取停用词'''\n",
    "stopwords = open('./stop.txt', 'r', encoding='utf-8').read().split('\\n')\n",
    "key_words = []\n",
    "for key in words:\n",
    "    #去除停用词，去除单字\n",
    "    if not(key.strip() in stopwords) and (len(key.strip()) > 1) :\n",
    "        key_words.append(key)"
   ]
  },
  {
   "cell_type": "code",
   "execution_count": 48,
   "metadata": {},
   "outputs": [
    {
     "output_type": "stream",
     "name": "stdout",
     "text": "共统计26986关键词\n"
    }
   ],
   "source": [
    "'''统计关键词'''\n",
    "key_words_count = dict(collections.Counter(key_words))\n",
    "print('共统计{}关键词'.format(len(key_words_count)))"
   ]
  },
  {
   "cell_type": "code",
   "execution_count": 9,
   "metadata": {},
   "outputs": [
    {
     "output_type": "display_data",
     "data": {
      "text/plain": "<Figure size 432x288 with 1 Axes>",
      "image/svg+xml": "<?xml version=\"1.0\" encoding=\"utf-8\" standalone=\"no\"?>\r\n<!DOCTYPE svg PUBLIC \"-//W3C//DTD SVG 1.1//EN\"\r\n  \"http://www.w3.org/Graphics/SVG/1.1/DTD/svg11.dtd\">\r\n<!-- Created with matplotlib (https://matplotlib.org/) -->\r\n<svg height=\"252.277824pt\" version=\"1.1\" viewBox=\"0 0 202.875649 252.277824\" width=\"202.875649pt\" xmlns=\"http://www.w3.org/2000/svg\" xmlns:xlink=\"http://www.w3.org/1999/xlink\">\r\n <defs>\r\n  <style type=\"text/css\">\r\n*{stroke-linecap:butt;stroke-linejoin:round;}\r\n  </style>\r\n </defs>\r\n <g id=\"figure_1\">\r\n  <g id=\"patch_1\">\r\n   <path d=\"M 0 252.277824 \r\nL 202.875649 252.277824 \r\nL 202.875649 0 \r\nL 0 0 \r\nz\r\n\" style=\"fill:none;\"/>\r\n  </g>\r\n  <g id=\"axes_1\">\r\n   <g clip-path=\"url(#p5d97236ced)\">\r\n    <image height=\"218\" id=\"image6b0244d1ed\" transform=\"scale(1 -1)translate(0 -218)\" width=\"157\" x=\"39.65\" xlink:href=\"data:image/png;base64,\r\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\" y=\"-10.399699\"/>\r\n   </g>\r\n  </g>\r\n </g>\r\n <defs>\r\n  <clipPath id=\"p5d97236ced\">\r\n   <rect height=\"217.44\" width=\"156.025649\" x=\"39.65\" y=\"10.959699\"/>\r\n  </clipPath>\r\n </defs>\r\n</svg>\r\n",
      "image/png": "[encoded data removed]"
     },
     "metadata": {
      "needs_background": "light"
     }
    },
    {
     "output_type": "execute_result",
     "data": {
      "text/plain": "<wordcloud.wordcloud.WordCloud at 0x1d34e4603c8>"
     },
     "metadata": {},
     "execution_count": 9
    }
   ],
   "source": [
    "'''绘制词云'''\n",
    "mask = np.array(Image.open('./4.png'))\n",
    "wc = wordcloud.WordCloud(\n",
    "    font_path='C:/Windows/Fonts/simhei.ttf', \n",
    "    mask=mask, \n",
    "    max_words=20000, \n",
    "    max_font_size=20,# 字体最大值\n",
    "    scale=3, # 精细度\n",
    "    background_color='#fff',\n",
    ")\n",
    "wc.generate_from_frequencies(key_words_count)\n",
    "image_colors = wordcloud.ImageColorGenerator(mask)\n",
    "wc.recolor(color_func=image_colors) # 词云颜色设为背景图方案\n",
    "plt.imshow(wc)\n",
    "plt.axis('off')\n",
    "plt.show() # \n",
    "wc.to_file('./cloud1.jpg') # 保存词云图"
   ]
  },
  {
   "cell_type": "code",
   "execution_count": 29,
   "metadata": {},
   "outputs": [
    {
     "output_type": "display_data",
     "data": {
      "text/plain": "    黄梓瑕   李舒白   周子秦   看着   赶紧   说道   公主   王爷   禹宣   身边  ...   蜡烛  公孙鸢   抬手  \\\n0  3512  1714  1410  705  536  524  523  490  487  445  ...  153  153  151   \n\n    衣服  孙癞子   慢慢   郡守   转头   门口   判官  \n0  150  149  149  144  140  136  134  \n\n[1 rows x 100 columns]",
      "text/html": "<div>\n<style scoped>\n    .dataframe tbody tr th:only-of-type {\n        vertical-align: middle;\n    }\n\n    .dataframe tbody tr th {\n        vertical-align: top;\n    }\n\n    .dataframe thead th {\n        text-align: right;\n    }\n</style>\n<table border=\"1\" class=\"dataframe\">\n  <thead>\n    <tr style=\"text-align: right;\">\n      <th></th>\n      <th>黄梓瑕</th>\n      <th>李舒白</th>\n      <th>周子秦</th>\n      <th>看着</th>\n      <th>赶紧</th>\n      <th>说道</th>\n      <th>公主</th>\n      <th>王爷</th>\n      <th>禹宣</th>\n      <th>身边</th>\n      <th>...</th>\n      <th>蜡烛</th>\n      <th>公孙鸢</th>\n      <th>抬手</th>\n      <th>衣服</th>\n      <th>孙癞子</th>\n      <th>慢慢</th>\n      <th>郡守</th>\n      <th>转头</th>\n      <th>门口</th>\n      <th>判官</th>\n    </tr>\n  </thead>\n  <tbody>\n    <tr>\n      <td>0</td>\n      <td>3512</td>\n      <td>1714</td>\n      <td>1410</td>\n      <td>705</td>\n      <td>536</td>\n      <td>524</td>\n      <td>523</td>\n      <td>490</td>\n      <td>487</td>\n      <td>445</td>\n      <td>...</td>\n      <td>153</td>\n      <td>153</td>\n      <td>151</td>\n      <td>150</td>\n      <td>149</td>\n      <td>149</td>\n      <td>144</td>\n      <td>140</td>\n      <td>136</td>\n      <td>134</td>\n    </tr>\n  </tbody>\n</table>\n<p>1 rows × 100 columns</p>\n</div>"
     },
     "metadata": {}
    }
   ],
   "source": [
    "'''绘制图表'''\n",
    "import pandas as pd\n",
    "key_words_data = pd.DataFrame([key_words_count]) \n",
    "key_words_data.sort_values(by=0, axis=1, ascending=False, inplace=True)\n",
    "key_words_data.drop(key_words_data.columns[[i for i in range(100,26986)]], axis=1, inplace=True)\n",
    "display(key_words_data)"
   ]
  },
  {
   "cell_type": "code",
   "execution_count": 30,
   "metadata": {},
   "outputs": [
    {
     "output_type": "display_data",
     "data": {
      "text/html": "        <script type=\"text/javascript\">\n        window.PlotlyConfig = {MathJaxConfig: 'local'};\n        if (window.MathJax) {MathJax.Hub.Config({SVG: {font: \"STIX-Web\"}});}\n        if (typeof require !== 'undefined') {\n        require.undef(\"plotly\");\n        requirejs.config({\n            paths: {\n                'plotly': ['https://cdn.plot.ly/plotly-latest.min']\n            }\n        });\n        require(['plotly'], function(Plotly) {\n            window._Plotly = Plotly;\n        });\n        }\n        </script>\n        "
     },
     "metadata": {}
    },
    {
     "output_type": "display_data",
     "data": {
      "text/html": "        <script type=\"text/javascript\">\n        window.PlotlyConfig = {MathJaxConfig: 'local'};\n        if (window.MathJax) {MathJax.Hub.Config({SVG: {font: \"STIX-Web\"}});}\n        if (typeof require !== 'undefined') {\n        require.undef(\"plotly\");\n        requirejs.config({\n            paths: {\n                'plotly': ['https://cdn.plot.ly/plotly-latest.min']\n            }\n        });\n        require(['plotly'], function(Plotly) {\n            window._Plotly = Plotly;\n        });\n        }\n        </script>\n        "
     },
     "metadata": {}
    }
   ],
   "source": [
    "import cufflinks as cf\n",
    "cf.set_config_file(offline=True)"
   ]
  },
  {
   "cell_type": "code",
   "execution_count": 45,
   "metadata": {},
   "outputs": [
    {
     "output_type": "display_data",
     "data": {
      "application/vnd.plotly.v1+json": {
       "config": {
        "linkText": "Export to plot.ly",
        "plotlyServerURL": "https://plot.ly",
        "showLink": true
       },
       "data": [
        {
         "marker": {
          "color": "rgba(255, 153, 51, 0.6)",
          "line": {
           "color": "rgba(255, 153, 51, 1.0)",
           "width": 1
          }
         },
         "name": "黄梓瑕",
         "orientation": "h",
         "text": "",
         "type": "bar",
         "x": [
          3512
         ],
         "y": [
          0
         ]
        },
        {
         "marker": {
          "color": "rgba(55, 128, 191, 0.6)",
          "line": {
           "color": "rgba(55, 128, 191, 1.0)",
           "width": 1
          }
         },
         "name": "李舒白",
         "orientation": "h",
         "text": "",
         "type": "bar",
         "x": [
          1714
         ],
         "y": [
          0
         ]
        },
        {
         "marker": {
          "color": "rgba(50, 171, 96, 0.6)",
          "line": {
           "color": "rgba(50, 171, 96, 1.0)",
           "width": 1
          }
         },
         "name": "周子秦",
         "orientation": "h",
         "text": "",
         "type": "bar",
         "x": [
          1410
         ],
         "y": [
          0
         ]
        },
        {
         "marker": {
          "color": "rgba(128, 0, 128, 0.6)",
          "line": {
           "color": "rgba(128, 0, 128, 1.0)",
           "width": 1
          }
         },
         "name": "看着",
         "orientation": "h",
         "text": "",
         "type": "bar",
         "x": [
          705
         ],
         "y": [
          0
         ]
        },
        {
         "marker": {
          "color": "rgba(219, 64, 82, 0.6)",
          "line": {
           "color": "rgba(219, 64, 82, 1.0)",
           "width": 1
          }
         },
         "name": "赶紧",
         "orientation": "h",
         "text": "",
         "type": "bar",
         "x": [
          536
         ],
         "y": [
          0
         ]
        },
        {
         "marker": {
          "color": "rgba(0, 128, 128, 0.6)",
          "line": {
           "color": "rgba(0, 128, 128, 1.0)",
           "width": 1
          }
         },
         "name": "说道",
         "orientation": "h",
         "text": "",
         "type": "bar",
         "x": [
          524
         ],
         "y": [
          0
         ]
        },
        {
         "marker": {
          "color": "rgba(255, 255, 51, 0.6)",
          "line": {
           "color": "rgba(255, 255, 51, 1.0)",
           "width": 1
          }
         },
         "name": "公主",
         "orientation": "h",
         "text": "",
         "type": "bar",
         "x": [
          523
         ],
         "y": [
          0
         ]
        },
        {
         "marker": {
          "color": "rgba(128, 128, 0, 0.6)",
          "line": {
           "color": "rgba(128, 128, 0, 1.0)",
           "width": 1
          }
         },
         "name": "王爷",
         "orientation": "h",
         "text": "",
         "type": "bar",
         "x": [
          490
         ],
         "y": [
          0
         ]
        },
        {
         "marker": {
          "color": "rgba(251, 128, 114, 0.6)",
          "line": {
           "color": "rgba(251, 128, 114, 1.0)",
           "width": 1
          }
         },
         "name": "禹宣",
         "orientation": "h",
         "text": "",
         "type": "bar",
         "x": [
          487
         ],
         "y": [
          0
         ]
        },
        {
         "marker": {
          "color": "rgba(128, 177, 211, 0.6)",
          "line": {
           "color": "rgba(128, 177, 211, 1.0)",
           "width": 1
          }
         },
         "name": "身边",
         "orientation": "h",
         "text": "",
         "type": "bar",
         "x": [
          445
         ],
         "y": [
          0
         ]
        },
        {
         "marker": {
          "color": "rgba(128, 177, 211, 0.6)",
          "line": {
           "color": "rgba(128, 177, 211, 0.9199999999999999)",
           "width": 1
          }
         },
         "name": "点头",
         "orientation": "h",
         "text": "",
         "type": "bar",
         "x": [
          410
         ],
         "y": [
          0
         ]
        },
        {
         "marker": {
          "color": "rgba(255, 153, 51, 0.6)",
          "line": {
           "color": "rgba(255, 153, 51, 0.9199999999999999)",
           "width": 1
          }
         },
         "name": "目光",
         "orientation": "h",
         "text": "",
         "type": "bar",
         "x": [
          409
         ],
         "y": [
          0
         ]
        },
        {
         "marker": {
          "color": "rgba(55, 128, 191, 0.6)",
          "line": {
           "color": "rgba(55, 128, 191, 0.9199999999999999)",
           "width": 1
          }
         },
         "name": "声音",
         "orientation": "h",
         "text": "",
         "type": "bar",
         "x": [
          408
         ],
         "y": [
          0
         ]
        },
        {
         "marker": {
          "color": "rgba(50, 171, 96, 0.6)",
          "line": {
           "color": "rgba(50, 171, 96, 0.9199999999999999)",
           "width": 1
          }
         },
         "name": "东西",
         "orientation": "h",
         "text": "",
         "type": "bar",
         "x": [
          408
         ],
         "y": [
          0
         ]
        },
        {
         "marker": {
          "color": "rgba(128, 0, 128, 0.6)",
          "line": {
           "color": "rgba(128, 0, 128, 0.9199999999999999)",
           "width": 1
          }
         },
         "name": "之中",
         "orientation": "h",
         "text": "",
         "type": "bar",
         "x": [
          403
         ],
         "y": [
          0
         ]
        },
        {
         "marker": {
          "color": "rgba(219, 64, 82, 0.6)",
          "line": {
           "color": "rgba(219, 64, 82, 0.9199999999999999)",
           "width": 1
          }
         },
         "name": "张行英",
         "orientation": "h",
         "text": "",
         "type": "bar",
         "x": [
          402
         ],
         "y": [
          0
         ]
        },
        {
         "marker": {
          "color": "rgba(0, 128, 128, 0.6)",
          "line": {
           "color": "rgba(0, 128, 128, 0.9199999999999999)",
           "width": 1
          }
         },
         "name": "王蕴",
         "orientation": "h",
         "text": "",
         "type": "bar",
         "x": [
          392
         ],
         "y": [
          0
         ]
        },
        {
         "marker": {
          "color": "rgba(255, 255, 51, 0.6)",
          "line": {
           "color": "rgba(255, 255, 51, 0.9199999999999999)",
           "width": 1
          }
         },
         "name": "面前",
         "orientation": "h",
         "text": "",
         "type": "bar",
         "x": [
          360
         ],
         "y": [
          0
         ]
        },
        {
         "marker": {
          "color": "rgba(128, 128, 0, 0.6)",
          "line": {
           "color": "rgba(128, 128, 0, 0.9199999999999999)",
           "width": 1
          }
         },
         "name": "身上",
         "orientation": "h",
         "text": "",
         "type": "bar",
         "x": [
          323
         ],
         "y": [
          0
         ]
        },
        {
         "marker": {
          "color": "rgba(251, 128, 114, 0.6)",
          "line": {
           "color": "rgba(251, 128, 114, 0.9199999999999999)",
           "width": 1
          }
         },
         "name": "事情",
         "orientation": "h",
         "text": "",
         "type": "bar",
         "x": [
          319
         ],
         "y": [
          0
         ]
        },
        {
         "marker": {
          "color": "rgba(251, 128, 114, 0.6)",
          "line": {
           "color": "rgba(251, 128, 114, 0.8399999999999999)",
           "width": 1
          }
         },
         "name": "手中",
         "orientation": "h",
         "text": "",
         "type": "bar",
         "x": [
          316
         ],
         "y": [
          0
         ]
        },
        {
         "marker": {
          "color": "rgba(128, 177, 211, 0.6)",
          "line": {
           "color": "rgba(128, 177, 211, 0.8399999999999999)",
           "width": 1
          }
         },
         "name": "一眼",
         "orientation": "h",
         "text": "",
         "type": "bar",
         "x": [
          305
         ],
         "y": [
          0
         ]
        },
        {
         "marker": {
          "color": "rgba(255, 153, 51, 0.6)",
          "line": {
           "color": "rgba(255, 153, 51, 0.8399999999999999)",
           "width": 1
          }
         },
         "name": "旁边",
         "orientation": "h",
         "text": "",
         "type": "bar",
         "x": [
          301
         ],
         "y": [
          0
         ]
        },
        {
         "marker": {
          "color": "rgba(55, 128, 191, 0.6)",
          "line": {
           "color": "rgba(55, 128, 191, 0.8399999999999999)",
           "width": 1
          }
         },
         "name": "不知",
         "orientation": "h",
         "text": "",
         "type": "bar",
         "x": [
          297
         ],
         "y": [
          0
         ]
        },
        {
         "marker": {
          "color": "rgba(50, 171, 96, 0.6)",
          "line": {
           "color": "rgba(50, 171, 96, 0.8399999999999999)",
           "width": 1
          }
         },
         "name": "微微",
         "orientation": "h",
         "text": "",
         "type": "bar",
         "x": [
          287
         ],
         "y": [
          0
         ]
        },
        {
         "marker": {
          "color": "rgba(128, 0, 128, 0.6)",
          "line": {
           "color": "rgba(128, 0, 128, 0.8399999999999999)",
           "width": 1
          }
         },
         "name": "终于",
         "orientation": "h",
         "text": "",
         "type": "bar",
         "x": [
          283
         ],
         "y": [
          0
         ]
        },
        {
         "marker": {
          "color": "rgba(219, 64, 82, 0.6)",
          "line": {
           "color": "rgba(219, 64, 82, 0.8399999999999999)",
           "width": 1
          }
         },
         "name": "宦官",
         "orientation": "h",
         "text": "",
         "type": "bar",
         "x": [
          278
         ],
         "y": [
          0
         ]
        },
        {
         "marker": {
          "color": "rgba(0, 128, 128, 0.6)",
          "line": {
           "color": "rgba(0, 128, 128, 0.8399999999999999)",
           "width": 1
          }
         },
         "name": "夔王",
         "orientation": "h",
         "text": "",
         "type": "bar",
         "x": [
          276
         ],
         "y": [
          0
         ]
        },
        {
         "marker": {
          "color": "rgba(255, 255, 51, 0.6)",
          "line": {
           "color": "rgba(255, 255, 51, 0.8399999999999999)",
           "width": 1
          }
         },
         "name": "发现",
         "orientation": "h",
         "text": "",
         "type": "bar",
         "x": [
          275
         ],
         "y": [
          0
         ]
        },
        {
         "marker": {
          "color": "rgba(128, 128, 0, 0.6)",
          "line": {
           "color": "rgba(128, 128, 0, 0.8399999999999999)",
           "width": 1
          }
         },
         "name": "女儿",
         "orientation": "h",
         "text": "",
         "type": "bar",
         "x": [
          271
         ],
         "y": [
          0
         ]
        },
        {
         "marker": {
          "color": "rgba(128, 128, 0, 0.6)",
          "line": {
           "color": "rgba(128, 128, 0, 0.76)",
           "width": 1
          }
         },
         "name": "王若",
         "orientation": "h",
         "text": "",
         "type": "bar",
         "x": [
          269
         ],
         "y": [
          0
         ]
        },
        {
         "marker": {
          "color": "rgba(251, 128, 114, 0.6)",
          "line": {
           "color": "rgba(251, 128, 114, 0.76)",
           "width": 1
          }
         },
         "name": "公公",
         "orientation": "h",
         "text": "",
         "type": "bar",
         "x": [
          267
         ],
         "y": [
          0
         ]
        },
        {
         "marker": {
          "color": "rgba(128, 177, 211, 0.6)",
          "line": {
           "color": "rgba(128, 177, 211, 0.76)",
           "width": 1
          }
         },
         "name": "京城",
         "orientation": "h",
         "text": "",
         "type": "bar",
         "x": [
          267
         ],
         "y": [
          0
         ]
        },
        {
         "marker": {
          "color": "rgba(255, 153, 51, 0.6)",
          "line": {
           "color": "rgba(255, 153, 51, 0.76)",
           "width": 1
          }
         },
         "name": "只能",
         "orientation": "h",
         "text": "",
         "type": "bar",
         "x": [
          258
         ],
         "y": [
          0
         ]
        },
        {
         "marker": {
          "color": "rgba(55, 128, 191, 0.6)",
          "line": {
           "color": "rgba(55, 128, 191, 0.76)",
           "width": 1
          }
         },
         "name": "几个",
         "orientation": "h",
         "text": "",
         "type": "bar",
         "x": [
          251
         ],
         "y": [
          0
         ]
        },
        {
         "marker": {
          "color": "rgba(50, 171, 96, 0.6)",
          "line": {
           "color": "rgba(50, 171, 96, 0.76)",
           "width": 1
          }
         },
         "name": "神情",
         "orientation": "h",
         "text": "",
         "type": "bar",
         "x": [
          251
         ],
         "y": [
          0
         ]
        },
        {
         "marker": {
          "color": "rgba(128, 0, 128, 0.6)",
          "line": {
           "color": "rgba(128, 0, 128, 0.76)",
           "width": 1
          }
         },
         "name": "滴翠",
         "orientation": "h",
         "text": "",
         "type": "bar",
         "x": [
          248
         ],
         "y": [
          0
         ]
        },
        {
         "marker": {
          "color": "rgba(219, 64, 82, 0.6)",
          "line": {
           "color": "rgba(219, 64, 82, 0.76)",
           "width": 1
          }
         },
         "name": "仿佛",
         "orientation": "h",
         "text": "",
         "type": "bar",
         "x": [
          246
         ],
         "y": [
          0
         ]
        },
        {
         "marker": {
          "color": "rgba(0, 128, 128, 0.6)",
          "line": {
           "color": "rgba(0, 128, 128, 0.76)",
           "width": 1
          }
         },
         "name": "低声",
         "orientation": "h",
         "text": "",
         "type": "bar",
         "x": [
          245
         ],
         "y": [
          0
         ]
        },
        {
         "marker": {
          "color": "rgba(255, 255, 51, 0.6)",
          "line": {
           "color": "rgba(255, 255, 51, 0.76)",
           "width": 1
          }
         },
         "name": "王府",
         "orientation": "h",
         "text": "",
         "type": "bar",
         "x": [
          236
         ],
         "y": [
          0
         ]
        },
        {
         "marker": {
          "color": "rgba(255, 255, 51, 0.6)",
          "line": {
           "color": "rgba(255, 255, 51, 0.6799999999999999)",
           "width": 1
          }
         },
         "name": "眼睛",
         "orientation": "h",
         "text": "",
         "type": "bar",
         "x": [
          232
         ],
         "y": [
          0
         ]
        },
        {
         "marker": {
          "color": "rgba(128, 128, 0, 0.6)",
          "line": {
           "color": "rgba(128, 128, 0, 0.6799999999999999)",
           "width": 1
          }
         },
         "name": "身后",
         "orientation": "h",
         "text": "",
         "type": "bar",
         "x": [
          229
         ],
         "y": [
          0
         ]
        },
        {
         "marker": {
          "color": "rgba(251, 128, 114, 0.6)",
          "line": {
           "color": "rgba(251, 128, 114, 0.6799999999999999)",
           "width": 1
          }
         },
         "name": "一声",
         "orientation": "h",
         "text": "",
         "type": "bar",
         "x": [
          224
         ],
         "y": [
          0
         ]
        },
        {
         "marker": {
          "color": "rgba(128, 177, 211, 0.6)",
          "line": {
           "color": "rgba(128, 177, 211, 0.6799999999999999)",
           "width": 1
          }
         },
         "name": "众人",
         "orientation": "h",
         "text": "",
         "type": "bar",
         "x": [
          224
         ],
         "y": [
          0
         ]
        },
        {
         "marker": {
          "color": "rgba(255, 153, 51, 0.6)",
          "line": {
           "color": "rgba(255, 153, 51, 0.6799999999999999)",
           "width": 1
          }
         },
         "name": "许久",
         "orientation": "h",
         "text": "",
         "type": "bar",
         "x": [
          223
         ],
         "y": [
          0
         ]
        },
        {
         "marker": {
          "color": "rgba(55, 128, 191, 0.6)",
          "line": {
           "color": "rgba(55, 128, 191, 0.6799999999999999)",
           "width": 1
          }
         },
         "name": "说话",
         "orientation": "h",
         "text": "",
         "type": "bar",
         "x": [
          220
         ],
         "y": [
          0
         ]
        },
        {
         "marker": {
          "color": "rgba(50, 171, 96, 0.6)",
          "line": {
           "color": "rgba(50, 171, 96, 0.6799999999999999)",
           "width": 1
          }
         },
         "name": "大理寺",
         "orientation": "h",
         "text": "",
         "type": "bar",
         "x": [
          219
         ],
         "y": [
          0
         ]
        },
        {
         "marker": {
          "color": "rgba(128, 0, 128, 0.6)",
          "line": {
           "color": "rgba(128, 0, 128, 0.6799999999999999)",
           "width": 1
          }
         },
         "name": "面容",
         "orientation": "h",
         "text": "",
         "type": "bar",
         "x": [
          216
         ],
         "y": [
          0
         ]
        },
        {
         "marker": {
          "color": "rgba(219, 64, 82, 0.6)",
          "line": {
           "color": "rgba(219, 64, 82, 0.6799999999999999)",
           "width": 1
          }
         },
         "name": "坐在",
         "orientation": "h",
         "text": "",
         "type": "bar",
         "x": [
          215
         ],
         "y": [
          0
         ]
        },
        {
         "marker": {
          "color": "rgba(0, 128, 128, 0.6)",
          "line": {
           "color": "rgba(0, 128, 128, 0.6799999999999999)",
           "width": 1
          }
         },
         "name": "脸上",
         "orientation": "h",
         "text": "",
         "type": "bar",
         "x": [
          214
         ],
         "y": [
          0
         ]
        },
        {
         "marker": {
          "color": "rgba(0, 128, 128, 0.6)",
          "line": {
           "color": "rgba(0, 128, 128, 0.5999999999999999)",
           "width": 1
          }
         },
         "name": "有人",
         "orientation": "h",
         "text": "",
         "type": "bar",
         "x": [
          213
         ],
         "y": [
          0
         ]
        },
        {
         "marker": {
          "color": "rgba(255, 255, 51, 0.6)",
          "line": {
           "color": "rgba(255, 255, 51, 0.5999999999999999)",
           "width": 1
          }
         },
         "name": "皇帝",
         "orientation": "h",
         "text": "",
         "type": "bar",
         "x": [
          212
         ],
         "y": [
          0
         ]
        },
        {
         "marker": {
          "color": "rgba(128, 128, 0, 0.6)",
          "line": {
           "color": "rgba(128, 128, 0, 0.5999999999999999)",
           "width": 1
          }
         },
         "name": "王皇后",
         "orientation": "h",
         "text": "",
         "type": "bar",
         "x": [
          211
         ],
         "y": [
          0
         ]
        },
        {
         "marker": {
          "color": "rgba(251, 128, 114, 0.6)",
          "line": {
           "color": "rgba(251, 128, 114, 0.5999999999999999)",
           "width": 1
          }
         },
         "name": "地说",
         "orientation": "h",
         "text": "",
         "type": "bar",
         "x": [
          210
         ],
         "y": [
          0
         ]
        },
        {
         "marker": {
          "color": "rgba(128, 177, 211, 0.6)",
          "line": {
           "color": "rgba(128, 177, 211, 0.5999999999999999)",
           "width": 1
          }
         },
         "name": "两个",
         "orientation": "h",
         "text": "",
         "type": "bar",
         "x": [
          208
         ],
         "y": [
          0
         ]
        },
        {
         "marker": {
          "color": "rgba(255, 153, 51, 0.6)",
          "line": {
           "color": "rgba(255, 153, 51, 0.5999999999999999)",
           "width": 1
          }
         },
         "name": "一点",
         "orientation": "h",
         "text": "",
         "type": "bar",
         "x": [
          206
         ],
         "y": [
          0
         ]
        },
        {
         "marker": {
          "color": "rgba(55, 128, 191, 0.6)",
          "line": {
           "color": "rgba(55, 128, 191, 0.5999999999999999)",
           "width": 1
          }
         },
         "name": "真的",
         "orientation": "h",
         "text": "",
         "type": "bar",
         "x": [
          204
         ],
         "y": [
          0
         ]
        },
        {
         "marker": {
          "color": "rgba(50, 171, 96, 0.6)",
          "line": {
           "color": "rgba(50, 171, 96, 0.5999999999999999)",
           "width": 1
          }
         },
         "name": "同昌公主",
         "orientation": "h",
         "text": "",
         "type": "bar",
         "x": [
          203
         ],
         "y": [
          0
         ]
        },
        {
         "marker": {
          "color": "rgba(128, 0, 128, 0.6)",
          "line": {
           "color": "rgba(128, 0, 128, 0.5999999999999999)",
           "width": 1
          }
         },
         "name": "依然",
         "orientation": "h",
         "text": "",
         "type": "bar",
         "x": [
          202
         ],
         "y": [
          0
         ]
        },
        {
         "marker": {
          "color": "rgba(219, 64, 82, 0.6)",
          "line": {
           "color": "rgba(219, 64, 82, 0.5999999999999999)",
           "width": 1
          }
         },
         "name": "缓缓",
         "orientation": "h",
         "text": "",
         "type": "bar",
         "x": [
          199
         ],
         "y": [
          0
         ]
        },
        {
         "marker": {
          "color": "rgba(219, 64, 82, 0.6)",
          "line": {
           "color": "rgba(219, 64, 82, 0.5199999999999998)",
           "width": 1
          }
         },
         "name": "女子",
         "orientation": "h",
         "text": "",
         "type": "bar",
         "x": [
          197
         ],
         "y": [
          0
         ]
        },
        {
         "marker": {
          "color": "rgba(0, 128, 128, 0.6)",
          "line": {
           "color": "rgba(0, 128, 128, 0.5199999999999998)",
           "width": 1
          }
         },
         "name": "听到",
         "orientation": "h",
         "text": "",
         "type": "bar",
         "x": [
          196
         ],
         "y": [
          0
         ]
        },
        {
         "marker": {
          "color": "rgba(255, 255, 51, 0.6)",
          "line": {
           "color": "rgba(255, 255, 51, 0.5199999999999998)",
           "width": 1
          }
         },
         "name": "两人",
         "orientation": "h",
         "text": "",
         "type": "bar",
         "x": [
          195
         ],
         "y": [
          0
         ]
        },
        {
         "marker": {
          "color": "rgba(128, 128, 0, 0.6)",
          "line": {
           "color": "rgba(128, 128, 0, 0.5199999999999998)",
           "width": 1
          }
         },
         "name": "听说",
         "orientation": "h",
         "text": "",
         "type": "bar",
         "x": [
          190
         ],
         "y": [
          0
         ]
        },
        {
         "marker": {
          "color": "rgba(251, 128, 114, 0.6)",
          "line": {
           "color": "rgba(251, 128, 114, 0.5199999999999998)",
           "width": 1
          }
         },
         "name": "凶手",
         "orientation": "h",
         "text": "",
         "type": "bar",
         "x": [
          188
         ],
         "y": [
          0
         ]
        },
        {
         "marker": {
          "color": "rgba(128, 177, 211, 0.6)",
          "line": {
           "color": "rgba(128, 177, 211, 0.5199999999999998)",
           "width": 1
          }
         },
         "name": "一种",
         "orientation": "h",
         "text": "",
         "type": "bar",
         "x": [
          187
         ],
         "y": [
          0
         ]
        },
        {
         "marker": {
          "color": "rgba(255, 153, 51, 0.6)",
          "line": {
           "color": "rgba(255, 153, 51, 0.5199999999999998)",
           "width": 1
          }
         },
         "name": "地方",
         "orientation": "h",
         "text": "",
         "type": "bar",
         "x": [
          185
         ],
         "y": [
          0
         ]
        },
        {
         "marker": {
          "color": "rgba(55, 128, 191, 0.6)",
          "line": {
           "color": "rgba(55, 128, 191, 0.5199999999999998)",
           "width": 1
          }
         },
         "name": "崇古",
         "orientation": "h",
         "text": "",
         "type": "bar",
         "x": [
          180
         ],
         "y": [
          0
         ]
        },
        {
         "marker": {
          "color": "rgba(50, 171, 96, 0.6)",
          "line": {
           "color": "rgba(50, 171, 96, 0.5199999999999998)",
           "width": 1
          }
         },
         "name": "自然",
         "orientation": "h",
         "text": "",
         "type": "bar",
         "x": [
          178
         ],
         "y": [
          0
         ]
        },
        {
         "marker": {
          "color": "rgba(128, 0, 128, 0.6)",
          "line": {
           "color": "rgba(128, 0, 128, 0.5199999999999998)",
           "width": 1
          }
         },
         "name": "回头",
         "orientation": "h",
         "text": "",
         "type": "bar",
         "x": [
          177
         ],
         "y": [
          0
         ]
        },
        {
         "marker": {
          "color": "rgba(128, 0, 128, 0.6)",
          "line": {
           "color": "rgba(128, 0, 128, 0.44)",
           "width": 1
          }
         },
         "name": "姑娘",
         "orientation": "h",
         "text": "",
         "type": "bar",
         "x": [
          176
         ],
         "y": [
          0
         ]
        },
        {
         "marker": {
          "color": "rgba(219, 64, 82, 0.6)",
          "line": {
           "color": "rgba(219, 64, 82, 0.44)",
           "width": 1
          }
         },
         "name": "外面",
         "orientation": "h",
         "text": "",
         "type": "bar",
         "x": [
          175
         ],
         "y": [
          0
         ]
        },
        {
         "marker": {
          "color": "rgba(0, 128, 128, 0.6)",
          "line": {
           "color": "rgba(0, 128, 128, 0.44)",
           "width": 1
          }
         },
         "name": "王家",
         "orientation": "h",
         "text": "",
         "type": "bar",
         "x": [
          175
         ],
         "y": [
          0
         ]
        },
        {
         "marker": {
          "color": "rgba(255, 255, 51, 0.6)",
          "line": {
           "color": "rgba(255, 255, 51, 0.44)",
           "width": 1
          }
         },
         "name": "今日",
         "orientation": "h",
         "text": "",
         "type": "bar",
         "x": [
          172
         ],
         "y": [
          0
         ]
        },
        {
         "marker": {
          "color": "rgba(128, 128, 0, 0.6)",
          "line": {
           "color": "rgba(128, 128, 0, 0.44)",
           "width": 1
          }
         },
         "name": "锦奴",
         "orientation": "h",
         "text": "",
         "type": "bar",
         "x": [
          169
         ],
         "y": [
          0
         ]
        },
        {
         "marker": {
          "color": "rgba(251, 128, 114, 0.6)",
          "line": {
           "color": "rgba(251, 128, 114, 0.44)",
           "width": 1
          }
         },
         "name": "驸马",
         "orientation": "h",
         "text": "",
         "type": "bar",
         "x": [
          169
         ],
         "y": [
          0
         ]
        },
        {
         "marker": {
          "color": "rgba(128, 177, 211, 0.6)",
          "line": {
           "color": "rgba(128, 177, 211, 0.44)",
           "width": 1
          }
         },
         "name": "跟着",
         "orientation": "h",
         "text": "",
         "type": "bar",
         "x": [
          167
         ],
         "y": [
          0
         ]
        },
        {
         "marker": {
          "color": "rgba(255, 153, 51, 0.6)",
          "line": {
           "color": "rgba(255, 153, 51, 0.44)",
           "width": 1
          }
         },
         "name": "模样",
         "orientation": "h",
         "text": "",
         "type": "bar",
         "x": [
          166
         ],
         "y": [
          0
         ]
        },
        {
         "marker": {
          "color": "rgba(55, 128, 191, 0.6)",
          "line": {
           "color": "rgba(55, 128, 191, 0.44)",
           "width": 1
          }
         },
         "name": "皇后",
         "orientation": "h",
         "text": "",
         "type": "bar",
         "x": [
          165
         ],
         "y": [
          0
         ]
        },
        {
         "marker": {
          "color": "rgba(50, 171, 96, 0.6)",
          "line": {
           "color": "rgba(50, 171, 96, 0.44)",
           "width": 1
          }
         },
         "name": "感觉",
         "orientation": "h",
         "text": "",
         "type": "bar",
         "x": [
          163
         ],
         "y": [
          0
         ]
        },
        {
         "marker": {
          "color": "rgba(50, 171, 96, 0.6)",
          "line": {
           "color": "rgba(50, 171, 96, 0.35999999999999993)",
           "width": 1
          }
         },
         "name": "魏喜敏",
         "orientation": "h",
         "text": "",
         "type": "bar",
         "x": [
          162
         ],
         "y": [
          0
         ]
        },
        {
         "marker": {
          "color": "rgba(128, 0, 128, 0.6)",
          "line": {
           "color": "rgba(128, 0, 128, 0.35999999999999993)",
           "width": 1
          }
         },
         "name": "齐腾",
         "orientation": "h",
         "text": "",
         "type": "bar",
         "x": [
          161
         ],
         "y": [
          0
         ]
        },
        {
         "marker": {
          "color": "rgba(219, 64, 82, 0.6)",
          "line": {
           "color": "rgba(219, 64, 82, 0.35999999999999993)",
           "width": 1
          }
         },
         "name": "皇上",
         "orientation": "h",
         "text": "",
         "type": "bar",
         "x": [
          160
         ],
         "y": [
          0
         ]
        },
        {
         "marker": {
          "color": "rgba(0, 128, 128, 0.6)",
          "line": {
           "color": "rgba(0, 128, 128, 0.35999999999999993)",
           "width": 1
          }
         },
         "name": "尸体",
         "orientation": "h",
         "text": "",
         "type": "bar",
         "x": [
          159
         ],
         "y": [
          0
         ]
        },
        {
         "marker": {
          "color": "rgba(255, 255, 51, 0.6)",
          "line": {
           "color": "rgba(255, 255, 51, 0.35999999999999993)",
           "width": 1
          }
         },
         "name": "王妃",
         "orientation": "h",
         "text": "",
         "type": "bar",
         "x": [
          159
         ],
         "y": [
          0
         ]
        },
        {
         "marker": {
          "color": "rgba(128, 128, 0, 0.6)",
          "line": {
           "color": "rgba(128, 128, 0, 0.35999999999999993)",
           "width": 1
          }
         },
         "name": "喜欢",
         "orientation": "h",
         "text": "",
         "type": "bar",
         "x": [
          157
         ],
         "y": [
          0
         ]
        },
        {
         "marker": {
          "color": "rgba(251, 128, 114, 0.6)",
          "line": {
           "color": "rgba(251, 128, 114, 0.35999999999999993)",
           "width": 1
          }
         },
         "name": "此事",
         "orientation": "h",
         "text": "",
         "type": "bar",
         "x": [
          156
         ],
         "y": [
          0
         ]
        },
        {
         "marker": {
          "color": "rgba(128, 177, 211, 0.6)",
          "line": {
           "color": "rgba(128, 177, 211, 0.35999999999999993)",
           "width": 1
          }
         },
         "name": "示意",
         "orientation": "h",
         "text": "",
         "type": "bar",
         "x": [
          156
         ],
         "y": [
          0
         ]
        },
        {
         "marker": {
          "color": "rgba(255, 153, 51, 0.6)",
          "line": {
           "color": "rgba(255, 153, 51, 0.35999999999999993)",
           "width": 1
          }
         },
         "name": "崔纯湛",
         "orientation": "h",
         "text": "",
         "type": "bar",
         "x": [
          154
         ],
         "y": [
          0
         ]
        },
        {
         "marker": {
          "color": "rgba(55, 128, 191, 0.6)",
          "line": {
           "color": "rgba(55, 128, 191, 0.35999999999999993)",
           "width": 1
          }
         },
         "name": "抬头",
         "orientation": "h",
         "text": "",
         "type": "bar",
         "x": [
          153
         ],
         "y": [
          0
         ]
        },
        {
         "marker": {
          "color": "rgba(55, 128, 191, 0.6)",
          "line": {
           "color": "rgba(55, 128, 191, 0.27999999999999986)",
           "width": 1
          }
         },
         "name": "蜡烛",
         "orientation": "h",
         "text": "",
         "type": "bar",
         "x": [
          153
         ],
         "y": [
          0
         ]
        },
        {
         "marker": {
          "color": "rgba(50, 171, 96, 0.6)",
          "line": {
           "color": "rgba(50, 171, 96, 0.27999999999999986)",
           "width": 1
          }
         },
         "name": "公孙鸢",
         "orientation": "h",
         "text": "",
         "type": "bar",
         "x": [
          153
         ],
         "y": [
          0
         ]
        },
        {
         "marker": {
          "color": "rgba(128, 0, 128, 0.6)",
          "line": {
           "color": "rgba(128, 0, 128, 0.27999999999999986)",
           "width": 1
          }
         },
         "name": "抬手",
         "orientation": "h",
         "text": "",
         "type": "bar",
         "x": [
          151
         ],
         "y": [
          0
         ]
        },
        {
         "marker": {
          "color": "rgba(219, 64, 82, 0.6)",
          "line": {
           "color": "rgba(219, 64, 82, 0.27999999999999986)",
           "width": 1
          }
         },
         "name": "衣服",
         "orientation": "h",
         "text": "",
         "type": "bar",
         "x": [
          150
         ],
         "y": [
          0
         ]
        },
        {
         "marker": {
          "color": "rgba(0, 128, 128, 0.6)",
          "line": {
           "color": "rgba(0, 128, 128, 0.27999999999999986)",
           "width": 1
          }
         },
         "name": "孙癞子",
         "orientation": "h",
         "text": "",
         "type": "bar",
         "x": [
          149
         ],
         "y": [
          0
         ]
        },
        {
         "marker": {
          "color": "rgba(255, 255, 51, 0.6)",
          "line": {
           "color": "rgba(255, 255, 51, 0.27999999999999986)",
           "width": 1
          }
         },
         "name": "慢慢",
         "orientation": "h",
         "text": "",
         "type": "bar",
         "x": [
          149
         ],
         "y": [
          0
         ]
        },
        {
         "marker": {
          "color": "rgba(128, 128, 0, 0.6)",
          "line": {
           "color": "rgba(128, 128, 0, 0.27999999999999986)",
           "width": 1
          }
         },
         "name": "郡守",
         "orientation": "h",
         "text": "",
         "type": "bar",
         "x": [
          144
         ],
         "y": [
          0
         ]
        },
        {
         "marker": {
          "color": "rgba(251, 128, 114, 0.6)",
          "line": {
           "color": "rgba(251, 128, 114, 0.27999999999999986)",
           "width": 1
          }
         },
         "name": "转头",
         "orientation": "h",
         "text": "",
         "type": "bar",
         "x": [
          140
         ],
         "y": [
          0
         ]
        },
        {
         "marker": {
          "color": "rgba(128, 177, 211, 0.6)",
          "line": {
           "color": "rgba(128, 177, 211, 0.27999999999999986)",
           "width": 1
          }
         },
         "name": "门口",
         "orientation": "h",
         "text": "",
         "type": "bar",
         "x": [
          136
         ],
         "y": [
          0
         ]
        },
        {
         "marker": {
          "color": "rgba(255, 153, 51, 0.6)",
          "line": {
           "color": "rgba(255, 153, 51, 0.27999999999999986)",
           "width": 1
          }
         },
         "name": "判官",
         "orientation": "h",
         "text": "",
         "type": "bar",
         "x": [
          134
         ],
         "y": [
          0
         ]
        }
       ],
       "layout": {
        "barmode": "stack",
        "legend": {
         "bgcolor": "#F5F6F9",
         "font": {
          "color": "#4D5663"
         },
         "traceorder": "normal"
        },
        "paper_bgcolor": "#F5F6F9",
        "plot_bgcolor": "#F5F6F9",
        "template": {
         "data": {
          "bar": [
           {
            "error_x": {
             "color": "#2a3f5f"
            },
            "error_y": {
             "color": "#2a3f5f"
            },
            "marker": {
             "line": {
              "color": "#E5ECF6",
              "width": 0.5
             }
            },
            "type": "bar"
           }
          ],
          "barpolar": [
           {
            "marker": {
             "line": {
              "color": "#E5ECF6",
              "width": 0.5
             }
            },
            "type": "barpolar"
           }
          ],
          "carpet": [
           {
            "aaxis": {
             "endlinecolor": "#2a3f5f",
             "gridcolor": "white",
             "linecolor": "white",
             "minorgridcolor": "white",
             "startlinecolor": "#2a3f5f"
            },
            "baxis": {
             "endlinecolor": "#2a3f5f",
             "gridcolor": "white",
             "linecolor": "white",
             "minorgridcolor": "white",
             "startlinecolor": "#2a3f5f"
            },
            "type": "carpet"
           }
          ],
          "choropleth": [
           {
            "colorbar": {
             "outlinewidth": 0,
             "ticks": ""
            },
            "type": "choropleth"
           }
          ],
          "contour": [
           {
            "colorbar": {
             "outlinewidth": 0,
             "ticks": ""
            },
            "colorscale": [
             [
              0,
              "#0d0887"
             ],
             [
              0.1111111111111111,
              "#46039f"
             ],
             [
              0.2222222222222222,
              "#7201a8"
             ],
             [
              0.3333333333333333,
              "#9c179e"
             ],
             [
              0.4444444444444444,
              "#bd3786"
             ],
             [
              0.5555555555555556,
              "#d8576b"
             ],
             [
              0.6666666666666666,
              "#ed7953"
             ],
             [
              0.7777777777777778,
              "#fb9f3a"
             ],
             [
              0.8888888888888888,
              "#fdca26"
             ],
             [
              1,
              "#f0f921"
             ]
            ],
            "type": "contour"
           }
          ],
          "contourcarpet": [
           {
            "colorbar": {
             "outlinewidth": 0,
             "ticks": ""
            },
            "type": "contourcarpet"
           }
          ],
          "heatmap": [
           {
            "colorbar": {
             "outlinewidth": 0,
             "ticks": ""
            },
            "colorscale": [
             [
              0,
              "#0d0887"
             ],
             [
              0.1111111111111111,
              "#46039f"
             ],
             [
              0.2222222222222222,
              "#7201a8"
             ],
             [
              0.3333333333333333,
              "#9c179e"
             ],
             [
              0.4444444444444444,
              "#bd3786"
             ],
             [
              0.5555555555555556,
              "#d8576b"
             ],
             [
              0.6666666666666666,
              "#ed7953"
             ],
             [
              0.7777777777777778,
              "#fb9f3a"
             ],
             [
              0.8888888888888888,
              "#fdca26"
             ],
             [
              1,
              "#f0f921"
             ]
            ],
            "type": "heatmap"
           }
          ],
          "heatmapgl": [
           {
            "colorbar": {
             "outlinewidth": 0,
             "ticks": ""
            },
            "colorscale": [
             [
              0,
              "#0d0887"
             ],
             [
              0.1111111111111111,
              "#46039f"
             ],
             [
              0.2222222222222222,
              "#7201a8"
             ],
             [
              0.3333333333333333,
              "#9c179e"
             ],
             [
              0.4444444444444444,
              "#bd3786"
             ],
             [
              0.5555555555555556,
              "#d8576b"
             ],
             [
              0.6666666666666666,
              "#ed7953"
             ],
             [
              0.7777777777777778,
              "#fb9f3a"
             ],
             [
              0.8888888888888888,
              "#fdca26"
             ],
             [
              1,
              "#f0f921"
             ]
            ],
            "type": "heatmapgl"
           }
          ],
          "histogram": [
           {
            "marker": {
             "colorbar": {
              "outlinewidth": 0,
              "ticks": ""
             }
            },
            "type": "histogram"
           }
          ],
          "histogram2d": [
           {
            "colorbar": {
             "outlinewidth": 0,
             "ticks": ""
            },
            "colorscale": [
             [
              0,
              "#0d0887"
             ],
             [
              0.1111111111111111,
              "#46039f"
             ],
             [
              0.2222222222222222,
              "#7201a8"
             ],
             [
              0.3333333333333333,
              "#9c179e"
             ],
             [
              0.4444444444444444,
              "#bd3786"
             ],
             [
              0.5555555555555556,
              "#d8576b"
             ],
             [
              0.6666666666666666,
              "#ed7953"
             ],
             [
              0.7777777777777778,
              "#fb9f3a"
             ],
             [
              0.8888888888888888,
              "#fdca26"
             ],
             [
              1,
              "#f0f921"
             ]
            ],
            "type": "histogram2d"
           }
          ],
          "histogram2dcontour": [
           {
            "colorbar": {
             "outlinewidth": 0,
             "ticks": ""
            },
            "colorscale": [
             [
              0,
              "#0d0887"
             ],
             [
              0.1111111111111111,
              "#46039f"
             ],
             [
              0.2222222222222222,
              "#7201a8"
             ],
             [
              0.3333333333333333,
              "#9c179e"
             ],
             [
              0.4444444444444444,
              "#bd3786"
             ],
             [
              0.5555555555555556,
              "#d8576b"
             ],
             [
              0.6666666666666666,
              "#ed7953"
             ],
             [
              0.7777777777777778,
              "#fb9f3a"
             ],
             [
              0.8888888888888888,
              "#fdca26"
             ],
             [
              1,
              "#f0f921"
             ]
            ],
            "type": "histogram2dcontour"
           }
          ],
          "mesh3d": [
           {
            "colorbar": {
             "outlinewidth": 0,
             "ticks": ""
            },
            "type": "mesh3d"
           }
          ],
          "parcoords": [
           {
            "line": {
             "colorbar": {
              "outlinewidth": 0,
              "ticks": ""
             }
            },
            "type": "parcoords"
           }
          ],
          "pie": [
           {
            "automargin": true,
            "type": "pie"
           }
          ],
          "scatter": [
           {
            "marker": {
             "colorbar": {
              "outlinewidth": 0,
              "ticks": ""
             }
            },
            "type": "scatter"
           }
          ],
          "scatter3d": [
           {
            "line": {
             "colorbar": {
              "outlinewidth": 0,
              "ticks": ""
             }
            },
            "marker": {
             "colorbar": {
              "outlinewidth": 0,
              "ticks": ""
             }
            },
            "type": "scatter3d"
           }
          ],
          "scattercarpet": [
           {
            "marker": {
             "colorbar": {
              "outlinewidth": 0,
              "ticks": ""
             }
            },
            "type": "scattercarpet"
           }
          ],
          "scattergeo": [
           {
            "marker": {
             "colorbar": {
              "outlinewidth": 0,
              "ticks": ""
             }
            },
            "type": "scattergeo"
           }
          ],
          "scattergl": [
           {
            "marker": {
             "colorbar": {
              "outlinewidth": 0,
              "ticks": ""
             }
            },
            "type": "scattergl"
           }
          ],
          "scattermapbox": [
           {
            "marker": {
             "colorbar": {
              "outlinewidth": 0,
              "ticks": ""
             }
            },
            "type": "scattermapbox"
           }
          ],
          "scatterpolar": [
           {
            "marker": {
             "colorbar": {
              "outlinewidth": 0,
              "ticks": ""
             }
            },
            "type": "scatterpolar"
           }
          ],
          "scatterpolargl": [
           {
            "marker": {
             "colorbar": {
              "outlinewidth": 0,
              "ticks": ""
             }
            },
            "type": "scatterpolargl"
           }
          ],
          "scatterternary": [
           {
            "marker": {
             "colorbar": {
              "outlinewidth": 0,
              "ticks": ""
             }
            },
            "type": "scatterternary"
           }
          ],
          "surface": [
           {
            "colorbar": {
             "outlinewidth": 0,
             "ticks": ""
            },
            "colorscale": [
             [
              0,
              "#0d0887"
             ],
             [
              0.1111111111111111,
              "#46039f"
             ],
             [
              0.2222222222222222,
              "#7201a8"
             ],
             [
              0.3333333333333333,
              "#9c179e"
             ],
             [
              0.4444444444444444,
              "#bd3786"
             ],
             [
              0.5555555555555556,
              "#d8576b"
             ],
             [
              0.6666666666666666,
              "#ed7953"
             ],
             [
              0.7777777777777778,
              "#fb9f3a"
             ],
             [
              0.8888888888888888,
              "#fdca26"
             ],
             [
              1,
              "#f0f921"
             ]
            ],
            "type": "surface"
           }
          ],
          "table": [
           {
            "cells": {
             "fill": {
              "color": "#EBF0F8"
             },
             "line": {
              "color": "white"
             }
            },
            "header": {
             "fill": {
              "color": "#C8D4E3"
             },
             "line": {
              "color": "white"
             }
            },
            "type": "table"
           }
          ]
         },
         "layout": {
          "annotationdefaults": {
           "arrowcolor": "#2a3f5f",
           "arrowhead": 0,
           "arrowwidth": 1
          },
          "coloraxis": {
           "colorbar": {
            "outlinewidth": 0,
            "ticks": ""
           }
          },
          "colorscale": {
           "diverging": [
            [
             0,
             "#8e0152"
            ],
            [
             0.1,
             "#c51b7d"
            ],
            [
             0.2,
             "#de77ae"
            ],
            [
             0.3,
             "#f1b6da"
            ],
            [
             0.4,
             "#fde0ef"
            ],
            [
             0.5,
             "#f7f7f7"
            ],
            [
             0.6,
             "#e6f5d0"
            ],
            [
             0.7,
             "#b8e186"
            ],
            [
             0.8,
             "#7fbc41"
            ],
            [
             0.9,
             "#4d9221"
            ],
            [
             1,
             "#276419"
            ]
           ],
           "sequential": [
            [
             0,
             "#0d0887"
            ],
            [
             0.1111111111111111,
             "#46039f"
            ],
            [
             0.2222222222222222,
             "#7201a8"
            ],
            [
             0.3333333333333333,
             "#9c179e"
            ],
            [
             0.4444444444444444,
             "#bd3786"
            ],
            [
             0.5555555555555556,
             "#d8576b"
            ],
            [
             0.6666666666666666,
             "#ed7953"
            ],
            [
             0.7777777777777778,
             "#fb9f3a"
            ],
            [
             0.8888888888888888,
             "#fdca26"
            ],
            [
             1,
             "#f0f921"
            ]
           ],
           "sequentialminus": [
            [
             0,
             "#0d0887"
            ],
            [
             0.1111111111111111,
             "#46039f"
            ],
            [
             0.2222222222222222,
             "#7201a8"
            ],
            [
             0.3333333333333333,
             "#9c179e"
            ],
            [
             0.4444444444444444,
             "#bd3786"
            ],
            [
             0.5555555555555556,
             "#d8576b"
            ],
            [
             0.6666666666666666,
             "#ed7953"
            ],
            [
             0.7777777777777778,
             "#fb9f3a"
            ],
            [
             0.8888888888888888,
             "#fdca26"
            ],
            [
             1,
             "#f0f921"
            ]
           ]
          },
          "colorway": [
           "#636efa",
           "#EF553B",
           "#00cc96",
           "#ab63fa",
           "#FFA15A",
           "#19d3f3",
           "#FF6692",
           "#B6E880",
           "#FF97FF",
           "#FECB52"
          ],
          "font": {
           "color": "#2a3f5f"
          },
          "geo": {
           "bgcolor": "white",
           "lakecolor": "white",
           "landcolor": "#E5ECF6",
           "showlakes": true,
           "showland": true,
           "subunitcolor": "white"
          },
          "hoverlabel": {
           "align": "left"
          },
          "hovermode": "closest",
          "mapbox": {
           "style": "light"
          },
          "paper_bgcolor": "white",
          "plot_bgcolor": "#E5ECF6",
          "polar": {
           "angularaxis": {
            "gridcolor": "white",
            "linecolor": "white",
            "ticks": ""
           },
           "bgcolor": "#E5ECF6",
           "radialaxis": {
            "gridcolor": "white",
            "linecolor": "white",
            "ticks": ""
           }
          },
          "scene": {
           "xaxis": {
            "backgroundcolor": "#E5ECF6",
            "gridcolor": "white",
            "gridwidth": 2,
            "linecolor": "white",
            "showbackground": true,
            "ticks": "",
            "zerolinecolor": "white"
           },
           "yaxis": {
            "backgroundcolor": "#E5ECF6",
            "gridcolor": "white",
            "gridwidth": 2,
            "linecolor": "white",
            "showbackground": true,
            "ticks": "",
            "zerolinecolor": "white"
           },
           "zaxis": {
            "backgroundcolor": "#E5ECF6",
            "gridcolor": "white",
            "gridwidth": 2,
            "linecolor": "white",
            "showbackground": true,
            "ticks": "",
            "zerolinecolor": "white"
           }
          },
          "shapedefaults": {
           "line": {
            "color": "#2a3f5f"
           }
          },
          "ternary": {
           "aaxis": {
            "gridcolor": "white",
            "linecolor": "white",
            "ticks": ""
           },
           "baxis": {
            "gridcolor": "white",
            "linecolor": "white",
            "ticks": ""
           },
           "bgcolor": "#E5ECF6",
           "caxis": {
            "gridcolor": "white",
            "linecolor": "white",
            "ticks": ""
           }
          },
          "title": {
           "x": 0.05
          },
          "xaxis": {
           "automargin": true,
           "gridcolor": "white",
           "linecolor": "white",
           "ticks": "",
           "title": {
            "standoff": 15
           },
           "zerolinecolor": "white",
           "zerolinewidth": 2
          },
          "yaxis": {
           "automargin": true,
           "gridcolor": "white",
           "linecolor": "white",
           "ticks": "",
           "title": {
            "standoff": 15
           },
           "zerolinecolor": "white",
           "zerolinewidth": 2
          }
         }
        },
        "title": {
         "font": {
          "color": "#4D5663"
         },
         "text": "簪中录/青簪行"
        },
        "xaxis": {
         "gridcolor": "#E1E5ED",
         "showgrid": true,
         "tickfont": {
          "color": "#4D5663"
         },
         "title": {
          "font": {
           "color": "#4D5663"
          },
          "text": ""
         },
         "zerolinecolor": "#E1E5ED"
        },
        "yaxis": {
         "gridcolor": "#E1E5ED",
         "showgrid": true,
         "tickfont": {
          "color": "#4D5663"
         },
         "title": {
          "font": {
           "color": "#4D5663"
          },
          "text": ""
         },
         "zerolinecolor": "#E1E5ED"
        }
       }
      },
      "text/html": "<div>\n        \n        \n            <div id=\"ac6a0526-cbe3-4d08-b53a-4866eefb199a\" class=\"plotly-graph-div\" style=\"height:525px; width:100%;\"></div>\n            <script type=\"text/javascript\">\n                require([\"plotly\"], function(Plotly) {\n                    window.PLOTLYENV=window.PLOTLYENV || {};\n                    window.PLOTLYENV.BASE_URL='https://plot.ly';\n                    \n                if (document.getElementById(\"ac6a0526-cbe3-4d08-b53a-4866eefb199a\")) {\n                    Plotly.newPlot(\n                        'ac6a0526-cbe3-4d08-b53a-4866eefb199a',\n                        [{\"marker\": {\"color\": \"rgba(255, 153, 51, 0.6)\", \"line\": {\"color\": \"rgba(255, 153, 51, 1.0)\", \"width\": 1}}, \"name\": \"\\u9ec4\\u6893\\u7455\", \"orientation\": \"h\", \"text\": \"\", \"type\": \"bar\", \"x\": [3512], \"y\": [0]}, {\"marker\": {\"color\": \"rgba(55, 128, 191, 0.6)\", \"line\": {\"color\": \"rgba(55, 128, 191, 1.0)\", \"width\": 1}}, \"name\": \"\\u674e\\u8212\\u767d\", \"orientation\": \"h\", \"text\": \"\", \"type\": \"bar\", \"x\": [1714], \"y\": [0]}, {\"marker\": {\"color\": \"rgba(50, 171, 96, 0.6)\", \"line\": {\"color\": \"rgba(50, 171, 96, 1.0)\", \"width\": 1}}, \"name\": \"\\u5468\\u5b50\\u79e6\", \"orientation\": \"h\", \"text\": \"\", \"type\": \"bar\", \"x\": [1410], \"y\": [0]}, {\"marker\": {\"color\": \"rgba(128, 0, 128, 0.6)\", \"line\": {\"color\": \"rgba(128, 0, 128, 1.0)\", \"width\": 1}}, \"name\": \"\\u770b\\u7740\", \"orientation\": \"h\", \"text\": \"\", \"type\": \"bar\", \"x\": [705], \"y\": [0]}, {\"marker\": {\"color\": \"rgba(219, 64, 82, 0.6)\", \"line\": {\"color\": \"rgba(219, 64, 82, 1.0)\", \"width\": 1}}, \"name\": \"\\u8d76\\u7d27\", \"orientation\": \"h\", \"text\": \"\", \"type\": \"bar\", \"x\": [536], \"y\": [0]}, {\"marker\": {\"color\": \"rgba(0, 128, 128, 0.6)\", \"line\": {\"color\": \"rgba(0, 128, 128, 1.0)\", \"width\": 1}}, \"name\": \"\\u8bf4\\u9053\", \"orientation\": \"h\", \"text\": \"\", \"type\": \"bar\", \"x\": [524], \"y\": [0]}, {\"marker\": {\"color\": \"rgba(255, 255, 51, 0.6)\", \"line\": {\"color\": \"rgba(255, 255, 51, 1.0)\", \"width\": 1}}, \"name\": \"\\u516c\\u4e3b\", \"orientation\": \"h\", \"text\": \"\", \"type\": \"bar\", \"x\": [523], \"y\": [0]}, {\"marker\": {\"color\": \"rgba(128, 128, 0, 0.6)\", \"line\": {\"color\": \"rgba(128, 128, 0, 1.0)\", \"width\": 1}}, \"name\": \"\\u738b\\u7237\", \"orientation\": \"h\", \"text\": \"\", \"type\": \"bar\", \"x\": [490], \"y\": [0]}, {\"marker\": {\"color\": \"rgba(251, 128, 114, 0.6)\", \"line\": {\"color\": \"rgba(251, 128, 114, 1.0)\", \"width\": 1}}, \"name\": \"\\u79b9\\u5ba3\", \"orientation\": \"h\", \"text\": \"\", \"type\": \"bar\", \"x\": [487], \"y\": [0]}, {\"marker\": {\"color\": \"rgba(128, 177, 211, 0.6)\", \"line\": {\"color\": \"rgba(128, 177, 211, 1.0)\", \"width\": 1}}, \"name\": \"\\u8eab\\u8fb9\", \"orientation\": \"h\", \"text\": \"\", \"type\": \"bar\", \"x\": [445], \"y\": [0]}, {\"marker\": {\"color\": \"rgba(128, 177, 211, 0.6)\", \"line\": {\"color\": \"rgba(128, 177, 211, 0.9199999999999999)\", \"width\": 1}}, \"name\": \"\\u70b9\\u5934\", \"orientation\": \"h\", \"text\": \"\", \"type\": \"bar\", \"x\": [410], \"y\": [0]}, {\"marker\": {\"color\": \"rgba(255, 153, 51, 0.6)\", \"line\": {\"color\": \"rgba(255, 153, 51, 0.9199999999999999)\", \"width\": 1}}, \"name\": \"\\u76ee\\u5149\", \"orientation\": \"h\", \"text\": \"\", \"type\": \"bar\", \"x\": [409], \"y\": [0]}, {\"marker\": {\"color\": \"rgba(55, 128, 191, 0.6)\", \"line\": {\"color\": \"rgba(55, 128, 191, 0.9199999999999999)\", \"width\": 1}}, \"name\": \"\\u58f0\\u97f3\", \"orientation\": \"h\", \"text\": \"\", \"type\": \"bar\", \"x\": [408], \"y\": [0]}, {\"marker\": {\"color\": \"rgba(50, 171, 96, 0.6)\", \"line\": {\"color\": \"rgba(50, 171, 96, 0.9199999999999999)\", \"width\": 1}}, \"name\": \"\\u4e1c\\u897f\", \"orientation\": \"h\", \"text\": \"\", \"type\": \"bar\", \"x\": [408], \"y\": [0]}, {\"marker\": {\"color\": \"rgba(128, 0, 128, 0.6)\", \"line\": {\"color\": \"rgba(128, 0, 128, 0.9199999999999999)\", \"width\": 1}}, \"name\": \"\\u4e4b\\u4e2d\", \"orientation\": \"h\", \"text\": \"\", \"type\": \"bar\", \"x\": [403], \"y\": [0]}, {\"marker\": {\"color\": \"rgba(219, 64, 82, 0.6)\", \"line\": {\"color\": \"rgba(219, 64, 82, 0.9199999999999999)\", \"width\": 1}}, \"name\": \"\\u5f20\\u884c\\u82f1\", \"orientation\": \"h\", \"text\": \"\", \"type\": \"bar\", \"x\": [402], \"y\": [0]}, {\"marker\": {\"color\": \"rgba(0, 128, 128, 0.6)\", \"line\": {\"color\": \"rgba(0, 128, 128, 0.9199999999999999)\", \"width\": 1}}, \"name\": \"\\u738b\\u8574\", \"orientation\": \"h\", \"text\": \"\", \"type\": \"bar\", \"x\": [392], \"y\": [0]}, {\"marker\": {\"color\": \"rgba(255, 255, 51, 0.6)\", \"line\": {\"color\": \"rgba(255, 255, 51, 0.9199999999999999)\", \"width\": 1}}, \"name\": \"\\u9762\\u524d\", \"orientation\": \"h\", \"text\": \"\", \"type\": \"bar\", \"x\": [360], \"y\": [0]}, {\"marker\": {\"color\": \"rgba(128, 128, 0, 0.6)\", \"line\": {\"color\": \"rgba(128, 128, 0, 0.9199999999999999)\", \"width\": 1}}, \"name\": \"\\u8eab\\u4e0a\", \"orientation\": \"h\", \"text\": \"\", \"type\": \"bar\", \"x\": [323], \"y\": [0]}, {\"marker\": {\"color\": \"rgba(251, 128, 114, 0.6)\", \"line\": {\"color\": \"rgba(251, 128, 114, 0.9199999999999999)\", \"width\": 1}}, \"name\": \"\\u4e8b\\u60c5\", \"orientation\": \"h\", \"text\": \"\", \"type\": \"bar\", \"x\": [319], \"y\": [0]}, {\"marker\": {\"color\": \"rgba(251, 128, 114, 0.6)\", \"line\": {\"color\": \"rgba(251, 128, 114, 0.8399999999999999)\", \"width\": 1}}, \"name\": \"\\u624b\\u4e2d\", \"orientation\": \"h\", \"text\": \"\", \"type\": \"bar\", \"x\": [316], \"y\": [0]}, {\"marker\": {\"color\": \"rgba(128, 177, 211, 0.6)\", \"line\": {\"color\": \"rgba(128, 177, 211, 0.8399999999999999)\", \"width\": 1}}, \"name\": \"\\u4e00\\u773c\", \"orientation\": \"h\", \"text\": \"\", \"type\": \"bar\", \"x\": [305], \"y\": [0]}, {\"marker\": {\"color\": \"rgba(255, 153, 51, 0.6)\", \"line\": {\"color\": \"rgba(255, 153, 51, 0.8399999999999999)\", \"width\": 1}}, \"name\": \"\\u65c1\\u8fb9\", \"orientation\": \"h\", \"text\": \"\", \"type\": \"bar\", \"x\": [301], \"y\": [0]}, {\"marker\": {\"color\": \"rgba(55, 128, 191, 0.6)\", \"line\": {\"color\": \"rgba(55, 128, 191, 0.8399999999999999)\", \"width\": 1}}, \"name\": \"\\u4e0d\\u77e5\", \"orientation\": \"h\", \"text\": \"\", \"type\": \"bar\", \"x\": [297], \"y\": [0]}, {\"marker\": {\"color\": \"rgba(50, 171, 96, 0.6)\", \"line\": {\"color\": \"rgba(50, 171, 96, 0.8399999999999999)\", \"width\": 1}}, \"name\": \"\\u5fae\\u5fae\", \"orientation\": \"h\", \"text\": \"\", \"type\": \"bar\", \"x\": [287], \"y\": [0]}, {\"marker\": {\"color\": \"rgba(128, 0, 128, 0.6)\", \"line\": {\"color\": \"rgba(128, 0, 128, 0.8399999999999999)\", \"width\": 1}}, \"name\": \"\\u7ec8\\u4e8e\", \"orientation\": \"h\", \"text\": \"\", \"type\": \"bar\", \"x\": [283], \"y\": [0]}, {\"marker\": {\"color\": \"rgba(219, 64, 82, 0.6)\", \"line\": {\"color\": \"rgba(219, 64, 82, 0.8399999999999999)\", \"width\": 1}}, \"name\": \"\\u5ba6\\u5b98\", \"orientation\": \"h\", \"text\": \"\", \"type\": \"bar\", \"x\": [278], \"y\": [0]}, {\"marker\": {\"color\": \"rgba(0, 128, 128, 0.6)\", \"line\": {\"color\": \"rgba(0, 128, 128, 0.8399999999999999)\", \"width\": 1}}, \"name\": \"\\u5914\\u738b\", \"orientation\": \"h\", \"text\": \"\", \"type\": \"bar\", \"x\": [276], \"y\": [0]}, {\"marker\": {\"color\": \"rgba(255, 255, 51, 0.6)\", \"line\": {\"color\": \"rgba(255, 255, 51, 0.8399999999999999)\", \"width\": 1}}, \"name\": \"\\u53d1\\u73b0\", \"orientation\": \"h\", \"text\": \"\", \"type\": \"bar\", \"x\": [275], \"y\": [0]}, {\"marker\": {\"color\": \"rgba(128, 128, 0, 0.6)\", \"line\": {\"color\": \"rgba(128, 128, 0, 0.8399999999999999)\", \"width\": 1}}, \"name\": \"\\u5973\\u513f\", \"orientation\": \"h\", \"text\": \"\", \"type\": \"bar\", \"x\": [271], \"y\": [0]}, {\"marker\": {\"color\": \"rgba(128, 128, 0, 0.6)\", \"line\": {\"color\": \"rgba(128, 128, 0, 0.76)\", \"width\": 1}}, \"name\": \"\\u738b\\u82e5\", \"orientation\": \"h\", \"text\": \"\", \"type\": \"bar\", \"x\": [269], \"y\": [0]}, {\"marker\": {\"color\": \"rgba(251, 128, 114, 0.6)\", \"line\": {\"color\": \"rgba(251, 128, 114, 0.76)\", \"width\": 1}}, \"name\": \"\\u516c\\u516c\", \"orientation\": \"h\", \"text\": \"\", \"type\": \"bar\", \"x\": [267], \"y\": [0]}, {\"marker\": {\"color\": \"rgba(128, 177, 211, 0.6)\", \"line\": {\"color\": \"rgba(128, 177, 211, 0.76)\", \"width\": 1}}, \"name\": \"\\u4eac\\u57ce\", \"orientation\": \"h\", \"text\": \"\", \"type\": \"bar\", \"x\": [267], \"y\": [0]}, {\"marker\": {\"color\": \"rgba(255, 153, 51, 0.6)\", \"line\": {\"color\": \"rgba(255, 153, 51, 0.76)\", \"width\": 1}}, \"name\": \"\\u53ea\\u80fd\", \"orientation\": \"h\", \"text\": \"\", \"type\": \"bar\", \"x\": [258], \"y\": [0]}, {\"marker\": {\"color\": \"rgba(55, 128, 191, 0.6)\", \"line\": {\"color\": \"rgba(55, 128, 191, 0.76)\", \"width\": 1}}, \"name\": \"\\u51e0\\u4e2a\", \"orientation\": \"h\", \"text\": \"\", \"type\": \"bar\", \"x\": [251], \"y\": [0]}, {\"marker\": {\"color\": \"rgba(50, 171, 96, 0.6)\", \"line\": {\"color\": \"rgba(50, 171, 96, 0.76)\", \"width\": 1}}, \"name\": \"\\u795e\\u60c5\", \"orientation\": \"h\", \"text\": \"\", \"type\": \"bar\", \"x\": [251], \"y\": [0]}, {\"marker\": {\"color\": \"rgba(128, 0, 128, 0.6)\", \"line\": {\"color\": \"rgba(128, 0, 128, 0.76)\", \"width\": 1}}, \"name\": \"\\u6ef4\\u7fe0\", \"orientation\": \"h\", \"text\": \"\", \"type\": \"bar\", \"x\": [248], \"y\": [0]}, {\"marker\": {\"color\": \"rgba(219, 64, 82, 0.6)\", \"line\": {\"color\": \"rgba(219, 64, 82, 0.76)\", \"width\": 1}}, \"name\": \"\\u4eff\\u4f5b\", \"orientation\": \"h\", \"text\": \"\", \"type\": \"bar\", \"x\": [246], \"y\": [0]}, {\"marker\": {\"color\": \"rgba(0, 128, 128, 0.6)\", \"line\": {\"color\": \"rgba(0, 128, 128, 0.76)\", \"width\": 1}}, \"name\": \"\\u4f4e\\u58f0\", \"orientation\": \"h\", \"text\": \"\", \"type\": \"bar\", \"x\": [245], \"y\": [0]}, {\"marker\": {\"color\": \"rgba(255, 255, 51, 0.6)\", \"line\": {\"color\": \"rgba(255, 255, 51, 0.76)\", \"width\": 1}}, \"name\": \"\\u738b\\u5e9c\", \"orientation\": \"h\", \"text\": \"\", \"type\": \"bar\", \"x\": [236], \"y\": [0]}, {\"marker\": {\"color\": \"rgba(255, 255, 51, 0.6)\", \"line\": {\"color\": \"rgba(255, 255, 51, 0.6799999999999999)\", \"width\": 1}}, \"name\": \"\\u773c\\u775b\", \"orientation\": \"h\", \"text\": \"\", \"type\": \"bar\", \"x\": [232], \"y\": [0]}, {\"marker\": {\"color\": \"rgba(128, 128, 0, 0.6)\", \"line\": {\"color\": \"rgba(128, 128, 0, 0.6799999999999999)\", \"width\": 1}}, \"name\": \"\\u8eab\\u540e\", \"orientation\": \"h\", \"text\": \"\", \"type\": \"bar\", \"x\": [229], \"y\": [0]}, {\"marker\": {\"color\": \"rgba(251, 128, 114, 0.6)\", \"line\": {\"color\": \"rgba(251, 128, 114, 0.6799999999999999)\", \"width\": 1}}, \"name\": \"\\u4e00\\u58f0\", \"orientation\": \"h\", \"text\": \"\", \"type\": \"bar\", \"x\": [224], \"y\": [0]}, {\"marker\": {\"color\": \"rgba(128, 177, 211, 0.6)\", \"line\": {\"color\": \"rgba(128, 177, 211, 0.6799999999999999)\", \"width\": 1}}, \"name\": \"\\u4f17\\u4eba\", \"orientation\": \"h\", \"text\": \"\", \"type\": \"bar\", \"x\": [224], \"y\": [0]}, {\"marker\": {\"color\": \"rgba(255, 153, 51, 0.6)\", \"line\": {\"color\": \"rgba(255, 153, 51, 0.6799999999999999)\", \"width\": 1}}, \"name\": \"\\u8bb8\\u4e45\", \"orientation\": \"h\", \"text\": \"\", \"type\": \"bar\", \"x\": [223], \"y\": [0]}, {\"marker\": {\"color\": \"rgba(55, 128, 191, 0.6)\", \"line\": {\"color\": \"rgba(55, 128, 191, 0.6799999999999999)\", \"width\": 1}}, \"name\": \"\\u8bf4\\u8bdd\", \"orientation\": \"h\", \"text\": \"\", \"type\": \"bar\", \"x\": [220], \"y\": [0]}, {\"marker\": {\"color\": \"rgba(50, 171, 96, 0.6)\", \"line\": {\"color\": \"rgba(50, 171, 96, 0.6799999999999999)\", \"width\": 1}}, \"name\": \"\\u5927\\u7406\\u5bfa\", \"orientation\": \"h\", \"text\": \"\", \"type\": \"bar\", \"x\": [219], \"y\": [0]}, {\"marker\": {\"color\": \"rgba(128, 0, 128, 0.6)\", \"line\": {\"color\": \"rgba(128, 0, 128, 0.6799999999999999)\", \"width\": 1}}, \"name\": \"\\u9762\\u5bb9\", \"orientation\": \"h\", \"text\": \"\", \"type\": \"bar\", \"x\": [216], \"y\": [0]}, {\"marker\": {\"color\": \"rgba(219, 64, 82, 0.6)\", \"line\": {\"color\": \"rgba(219, 64, 82, 0.6799999999999999)\", \"width\": 1}}, \"name\": \"\\u5750\\u5728\", \"orientation\": \"h\", \"text\": \"\", \"type\": \"bar\", \"x\": [215], \"y\": [0]}, {\"marker\": {\"color\": \"rgba(0, 128, 128, 0.6)\", \"line\": {\"color\": \"rgba(0, 128, 128, 0.6799999999999999)\", \"width\": 1}}, \"name\": \"\\u8138\\u4e0a\", \"orientation\": \"h\", \"text\": \"\", \"type\": \"bar\", \"x\": [214], \"y\": [0]}, {\"marker\": {\"color\": \"rgba(0, 128, 128, 0.6)\", \"line\": {\"color\": \"rgba(0, 128, 128, 0.5999999999999999)\", \"width\": 1}}, \"name\": \"\\u6709\\u4eba\", \"orientation\": \"h\", \"text\": \"\", \"type\": \"bar\", \"x\": [213], \"y\": [0]}, {\"marker\": {\"color\": \"rgba(255, 255, 51, 0.6)\", \"line\": {\"color\": \"rgba(255, 255, 51, 0.5999999999999999)\", \"width\": 1}}, \"name\": \"\\u7687\\u5e1d\", \"orientation\": \"h\", \"text\": \"\", \"type\": \"bar\", \"x\": [212], \"y\": [0]}, {\"marker\": {\"color\": \"rgba(128, 128, 0, 0.6)\", \"line\": {\"color\": \"rgba(128, 128, 0, 0.5999999999999999)\", \"width\": 1}}, \"name\": \"\\u738b\\u7687\\u540e\", \"orientation\": \"h\", \"text\": \"\", \"type\": \"bar\", \"x\": [211], \"y\": [0]}, {\"marker\": {\"color\": \"rgba(251, 128, 114, 0.6)\", \"line\": {\"color\": \"rgba(251, 128, 114, 0.5999999999999999)\", \"width\": 1}}, \"name\": \"\\u5730\\u8bf4\", \"orientation\": \"h\", \"text\": \"\", \"type\": \"bar\", \"x\": [210], \"y\": [0]}, {\"marker\": {\"color\": \"rgba(128, 177, 211, 0.6)\", \"line\": {\"color\": \"rgba(128, 177, 211, 0.5999999999999999)\", \"width\": 1}}, \"name\": \"\\u4e24\\u4e2a\", \"orientation\": \"h\", \"text\": \"\", \"type\": \"bar\", \"x\": [208], \"y\": [0]}, {\"marker\": {\"color\": \"rgba(255, 153, 51, 0.6)\", \"line\": {\"color\": \"rgba(255, 153, 51, 0.5999999999999999)\", \"width\": 1}}, \"name\": \"\\u4e00\\u70b9\", \"orientation\": \"h\", \"text\": \"\", \"type\": \"bar\", \"x\": [206], \"y\": [0]}, {\"marker\": {\"color\": \"rgba(55, 128, 191, 0.6)\", \"line\": {\"color\": \"rgba(55, 128, 191, 0.5999999999999999)\", \"width\": 1}}, \"name\": \"\\u771f\\u7684\", \"orientation\": \"h\", \"text\": \"\", \"type\": \"bar\", \"x\": [204], \"y\": [0]}, {\"marker\": {\"color\": \"rgba(50, 171, 96, 0.6)\", \"line\": {\"color\": \"rgba(50, 171, 96, 0.5999999999999999)\", \"width\": 1}}, \"name\": \"\\u540c\\u660c\\u516c\\u4e3b\", \"orientation\": \"h\", \"text\": \"\", \"type\": \"bar\", \"x\": [203], \"y\": [0]}, {\"marker\": {\"color\": \"rgba(128, 0, 128, 0.6)\", \"line\": {\"color\": \"rgba(128, 0, 128, 0.5999999999999999)\", \"width\": 1}}, \"name\": \"\\u4f9d\\u7136\", \"orientation\": \"h\", \"text\": \"\", \"type\": \"bar\", \"x\": [202], \"y\": [0]}, {\"marker\": {\"color\": \"rgba(219, 64, 82, 0.6)\", \"line\": {\"color\": \"rgba(219, 64, 82, 0.5999999999999999)\", \"width\": 1}}, \"name\": \"\\u7f13\\u7f13\", \"orientation\": \"h\", \"text\": \"\", \"type\": \"bar\", \"x\": [199], \"y\": [0]}, {\"marker\": {\"color\": \"rgba(219, 64, 82, 0.6)\", \"line\": {\"color\": \"rgba(219, 64, 82, 0.5199999999999998)\", \"width\": 1}}, \"name\": \"\\u5973\\u5b50\", \"orientation\": \"h\", \"text\": \"\", \"type\": \"bar\", \"x\": [197], \"y\": [0]}, {\"marker\": {\"color\": \"rgba(0, 128, 128, 0.6)\", \"line\": {\"color\": \"rgba(0, 128, 128, 0.5199999999999998)\", \"width\": 1}}, \"name\": \"\\u542c\\u5230\", \"orientation\": \"h\", \"text\": \"\", \"type\": \"bar\", \"x\": [196], \"y\": [0]}, {\"marker\": {\"color\": \"rgba(255, 255, 51, 0.6)\", \"line\": {\"color\": \"rgba(255, 255, 51, 0.5199999999999998)\", \"width\": 1}}, \"name\": \"\\u4e24\\u4eba\", \"orientation\": \"h\", \"text\": \"\", \"type\": \"bar\", \"x\": [195], \"y\": [0]}, {\"marker\": {\"color\": \"rgba(128, 128, 0, 0.6)\", \"line\": {\"color\": \"rgba(128, 128, 0, 0.5199999999999998)\", \"width\": 1}}, \"name\": \"\\u542c\\u8bf4\", \"orientation\": \"h\", \"text\": \"\", \"type\": \"bar\", \"x\": [190], \"y\": [0]}, {\"marker\": {\"color\": \"rgba(251, 128, 114, 0.6)\", \"line\": {\"color\": \"rgba(251, 128, 114, 0.5199999999999998)\", \"width\": 1}}, \"name\": \"\\u51f6\\u624b\", \"orientation\": \"h\", \"text\": \"\", \"type\": \"bar\", \"x\": [188], \"y\": [0]}, {\"marker\": {\"color\": \"rgba(128, 177, 211, 0.6)\", \"line\": {\"color\": \"rgba(128, 177, 211, 0.5199999999999998)\", \"width\": 1}}, \"name\": \"\\u4e00\\u79cd\", \"orientation\": \"h\", \"text\": \"\", \"type\": \"bar\", \"x\": [187], \"y\": [0]}, {\"marker\": {\"color\": \"rgba(255, 153, 51, 0.6)\", \"line\": {\"color\": \"rgba(255, 153, 51, 0.5199999999999998)\", \"width\": 1}}, \"name\": \"\\u5730\\u65b9\", \"orientation\": \"h\", \"text\": \"\", \"type\": \"bar\", \"x\": [185], \"y\": [0]}, {\"marker\": {\"color\": \"rgba(55, 128, 191, 0.6)\", \"line\": {\"color\": \"rgba(55, 128, 191, 0.5199999999999998)\", \"width\": 1}}, \"name\": \"\\u5d07\\u53e4\", \"orientation\": \"h\", \"text\": \"\", \"type\": \"bar\", \"x\": [180], \"y\": [0]}, {\"marker\": {\"color\": \"rgba(50, 171, 96, 0.6)\", \"line\": {\"color\": \"rgba(50, 171, 96, 0.5199999999999998)\", \"width\": 1}}, \"name\": \"\\u81ea\\u7136\", \"orientation\": \"h\", \"text\": \"\", \"type\": \"bar\", \"x\": [178], \"y\": [0]}, {\"marker\": {\"color\": \"rgba(128, 0, 128, 0.6)\", \"line\": {\"color\": \"rgba(128, 0, 128, 0.5199999999999998)\", \"width\": 1}}, \"name\": \"\\u56de\\u5934\", \"orientation\": \"h\", \"text\": \"\", \"type\": \"bar\", \"x\": [177], \"y\": [0]}, {\"marker\": {\"color\": \"rgba(128, 0, 128, 0.6)\", \"line\": {\"color\": \"rgba(128, 0, 128, 0.44)\", \"width\": 1}}, \"name\": \"\\u59d1\\u5a18\", \"orientation\": \"h\", \"text\": \"\", \"type\": \"bar\", \"x\": [176], \"y\": [0]}, {\"marker\": {\"color\": \"rgba(219, 64, 82, 0.6)\", \"line\": {\"color\": \"rgba(219, 64, 82, 0.44)\", \"width\": 1}}, \"name\": \"\\u5916\\u9762\", \"orientation\": \"h\", \"text\": \"\", \"type\": \"bar\", \"x\": [175], \"y\": [0]}, {\"marker\": {\"color\": \"rgba(0, 128, 128, 0.6)\", \"line\": {\"color\": \"rgba(0, 128, 128, 0.44)\", \"width\": 1}}, \"name\": \"\\u738b\\u5bb6\", \"orientation\": \"h\", \"text\": \"\", \"type\": \"bar\", \"x\": [175], \"y\": [0]}, {\"marker\": {\"color\": \"rgba(255, 255, 51, 0.6)\", \"line\": {\"color\": \"rgba(255, 255, 51, 0.44)\", \"width\": 1}}, \"name\": \"\\u4eca\\u65e5\", \"orientation\": \"h\", \"text\": \"\", \"type\": \"bar\", \"x\": [172], \"y\": [0]}, {\"marker\": {\"color\": \"rgba(128, 128, 0, 0.6)\", \"line\": {\"color\": \"rgba(128, 128, 0, 0.44)\", \"width\": 1}}, \"name\": \"\\u9526\\u5974\", \"orientation\": \"h\", \"text\": \"\", \"type\": \"bar\", \"x\": [169], \"y\": [0]}, {\"marker\": {\"color\": \"rgba(251, 128, 114, 0.6)\", \"line\": {\"color\": \"rgba(251, 128, 114, 0.44)\", \"width\": 1}}, \"name\": \"\\u9a78\\u9a6c\", \"orientation\": \"h\", \"text\": \"\", \"type\": \"bar\", \"x\": [169], \"y\": [0]}, {\"marker\": {\"color\": \"rgba(128, 177, 211, 0.6)\", \"line\": {\"color\": \"rgba(128, 177, 211, 0.44)\", \"width\": 1}}, \"name\": \"\\u8ddf\\u7740\", \"orientation\": \"h\", \"text\": \"\", \"type\": \"bar\", \"x\": [167], \"y\": [0]}, {\"marker\": {\"color\": \"rgba(255, 153, 51, 0.6)\", \"line\": {\"color\": \"rgba(255, 153, 51, 0.44)\", \"width\": 1}}, \"name\": \"\\u6a21\\u6837\", \"orientation\": \"h\", \"text\": \"\", \"type\": \"bar\", \"x\": [166], \"y\": [0]}, {\"marker\": {\"color\": \"rgba(55, 128, 191, 0.6)\", \"line\": {\"color\": \"rgba(55, 128, 191, 0.44)\", \"width\": 1}}, \"name\": \"\\u7687\\u540e\", \"orientation\": \"h\", \"text\": \"\", \"type\": \"bar\", \"x\": [165], \"y\": [0]}, {\"marker\": {\"color\": \"rgba(50, 171, 96, 0.6)\", \"line\": {\"color\": \"rgba(50, 171, 96, 0.44)\", \"width\": 1}}, \"name\": \"\\u611f\\u89c9\", \"orientation\": \"h\", \"text\": \"\", \"type\": \"bar\", \"x\": [163], \"y\": [0]}, {\"marker\": {\"color\": \"rgba(50, 171, 96, 0.6)\", \"line\": {\"color\": \"rgba(50, 171, 96, 0.35999999999999993)\", \"width\": 1}}, \"name\": \"\\u9b4f\\u559c\\u654f\", \"orientation\": \"h\", \"text\": \"\", \"type\": \"bar\", \"x\": [162], \"y\": [0]}, {\"marker\": {\"color\": \"rgba(128, 0, 128, 0.6)\", \"line\": {\"color\": \"rgba(128, 0, 128, 0.35999999999999993)\", \"width\": 1}}, \"name\": \"\\u9f50\\u817e\", \"orientation\": \"h\", \"text\": \"\", \"type\": \"bar\", \"x\": [161], \"y\": [0]}, {\"marker\": {\"color\": \"rgba(219, 64, 82, 0.6)\", \"line\": {\"color\": \"rgba(219, 64, 82, 0.35999999999999993)\", \"width\": 1}}, \"name\": \"\\u7687\\u4e0a\", \"orientation\": \"h\", \"text\": \"\", \"type\": \"bar\", \"x\": [160], \"y\": [0]}, {\"marker\": {\"color\": \"rgba(0, 128, 128, 0.6)\", \"line\": {\"color\": \"rgba(0, 128, 128, 0.35999999999999993)\", \"width\": 1}}, \"name\": \"\\u5c38\\u4f53\", \"orientation\": \"h\", \"text\": \"\", \"type\": \"bar\", \"x\": [159], \"y\": [0]}, {\"marker\": {\"color\": \"rgba(255, 255, 51, 0.6)\", \"line\": {\"color\": \"rgba(255, 255, 51, 0.35999999999999993)\", \"width\": 1}}, \"name\": \"\\u738b\\u5983\", \"orientation\": \"h\", \"text\": \"\", \"type\": \"bar\", \"x\": [159], \"y\": [0]}, {\"marker\": {\"color\": \"rgba(128, 128, 0, 0.6)\", \"line\": {\"color\": \"rgba(128, 128, 0, 0.35999999999999993)\", \"width\": 1}}, \"name\": \"\\u559c\\u6b22\", \"orientation\": \"h\", \"text\": \"\", \"type\": \"bar\", \"x\": [157], \"y\": [0]}, {\"marker\": {\"color\": \"rgba(251, 128, 114, 0.6)\", \"line\": {\"color\": \"rgba(251, 128, 114, 0.35999999999999993)\", \"width\": 1}}, \"name\": \"\\u6b64\\u4e8b\", \"orientation\": \"h\", \"text\": \"\", \"type\": \"bar\", \"x\": [156], \"y\": [0]}, {\"marker\": {\"color\": \"rgba(128, 177, 211, 0.6)\", \"line\": {\"color\": \"rgba(128, 177, 211, 0.35999999999999993)\", \"width\": 1}}, \"name\": \"\\u793a\\u610f\", \"orientation\": \"h\", \"text\": \"\", \"type\": \"bar\", \"x\": [156], \"y\": [0]}, {\"marker\": {\"color\": \"rgba(255, 153, 51, 0.6)\", \"line\": {\"color\": \"rgba(255, 153, 51, 0.35999999999999993)\", \"width\": 1}}, \"name\": \"\\u5d14\\u7eaf\\u6e5b\", \"orientation\": \"h\", \"text\": \"\", \"type\": \"bar\", \"x\": [154], \"y\": [0]}, {\"marker\": {\"color\": \"rgba(55, 128, 191, 0.6)\", \"line\": {\"color\": \"rgba(55, 128, 191, 0.35999999999999993)\", \"width\": 1}}, \"name\": \"\\u62ac\\u5934\", \"orientation\": \"h\", \"text\": \"\", \"type\": \"bar\", \"x\": [153], \"y\": [0]}, {\"marker\": {\"color\": \"rgba(55, 128, 191, 0.6)\", \"line\": {\"color\": \"rgba(55, 128, 191, 0.27999999999999986)\", \"width\": 1}}, \"name\": \"\\u8721\\u70db\", \"orientation\": \"h\", \"text\": \"\", \"type\": \"bar\", \"x\": [153], \"y\": [0]}, {\"marker\": {\"color\": \"rgba(50, 171, 96, 0.6)\", \"line\": {\"color\": \"rgba(50, 171, 96, 0.27999999999999986)\", \"width\": 1}}, \"name\": \"\\u516c\\u5b59\\u9e22\", \"orientation\": \"h\", \"text\": \"\", \"type\": \"bar\", \"x\": [153], \"y\": [0]}, {\"marker\": {\"color\": \"rgba(128, 0, 128, 0.6)\", \"line\": {\"color\": \"rgba(128, 0, 128, 0.27999999999999986)\", \"width\": 1}}, \"name\": \"\\u62ac\\u624b\", \"orientation\": \"h\", \"text\": \"\", \"type\": \"bar\", \"x\": [151], \"y\": [0]}, {\"marker\": {\"color\": \"rgba(219, 64, 82, 0.6)\", \"line\": {\"color\": \"rgba(219, 64, 82, 0.27999999999999986)\", \"width\": 1}}, \"name\": \"\\u8863\\u670d\", \"orientation\": \"h\", \"text\": \"\", \"type\": \"bar\", \"x\": [150], \"y\": [0]}, {\"marker\": {\"color\": \"rgba(0, 128, 128, 0.6)\", \"line\": {\"color\": \"rgba(0, 128, 128, 0.27999999999999986)\", \"width\": 1}}, \"name\": \"\\u5b59\\u765e\\u5b50\", \"orientation\": \"h\", \"text\": \"\", \"type\": \"bar\", \"x\": [149], \"y\": [0]}, {\"marker\": {\"color\": \"rgba(255, 255, 51, 0.6)\", \"line\": {\"color\": \"rgba(255, 255, 51, 0.27999999999999986)\", \"width\": 1}}, \"name\": \"\\u6162\\u6162\", \"orientation\": \"h\", \"text\": \"\", \"type\": \"bar\", \"x\": [149], \"y\": [0]}, {\"marker\": {\"color\": \"rgba(128, 128, 0, 0.6)\", \"line\": {\"color\": \"rgba(128, 128, 0, 0.27999999999999986)\", \"width\": 1}}, \"name\": \"\\u90e1\\u5b88\", \"orientation\": \"h\", \"text\": \"\", \"type\": \"bar\", \"x\": [144], \"y\": [0]}, {\"marker\": {\"color\": \"rgba(251, 128, 114, 0.6)\", \"line\": {\"color\": \"rgba(251, 128, 114, 0.27999999999999986)\", \"width\": 1}}, \"name\": \"\\u8f6c\\u5934\", \"orientation\": \"h\", \"text\": \"\", \"type\": \"bar\", \"x\": [140], \"y\": [0]}, {\"marker\": {\"color\": \"rgba(128, 177, 211, 0.6)\", \"line\": {\"color\": \"rgba(128, 177, 211, 0.27999999999999986)\", \"width\": 1}}, \"name\": \"\\u95e8\\u53e3\", \"orientation\": \"h\", \"text\": \"\", \"type\": \"bar\", \"x\": [136], \"y\": [0]}, {\"marker\": {\"color\": \"rgba(255, 153, 51, 0.6)\", \"line\": {\"color\": \"rgba(255, 153, 51, 0.27999999999999986)\", \"width\": 1}}, \"name\": \"\\u5224\\u5b98\", \"orientation\": \"h\", \"text\": \"\", \"type\": \"bar\", \"x\": [134], \"y\": [0]}],\n                        {\"barmode\": \"stack\", \"legend\": {\"bgcolor\": \"#F5F6F9\", \"font\": {\"color\": \"#4D5663\"}, \"traceorder\": \"normal\"}, \"paper_bgcolor\": \"#F5F6F9\", \"plot_bgcolor\": \"#F5F6F9\", \"template\": {\"data\": {\"bar\": [{\"error_x\": {\"color\": \"#2a3f5f\"}, \"error_y\": {\"color\": \"#2a3f5f\"}, \"marker\": {\"line\": {\"color\": \"#E5ECF6\", \"width\": 0.5}}, \"type\": \"bar\"}], \"barpolar\": [{\"marker\": {\"line\": {\"color\": \"#E5ECF6\", \"width\": 0.5}}, \"type\": \"barpolar\"}], \"carpet\": [{\"aaxis\": {\"endlinecolor\": \"#2a3f5f\", \"gridcolor\": \"white\", \"linecolor\": \"white\", \"minorgridcolor\": \"white\", \"startlinecolor\": \"#2a3f5f\"}, \"baxis\": {\"endlinecolor\": \"#2a3f5f\", \"gridcolor\": \"white\", \"linecolor\": \"white\", \"minorgridcolor\": \"white\", \"startlinecolor\": \"#2a3f5f\"}, \"type\": \"carpet\"}], \"choropleth\": [{\"colorbar\": {\"outlinewidth\": 0, \"ticks\": \"\"}, \"type\": \"choropleth\"}], \"contour\": [{\"colorbar\": {\"outlinewidth\": 0, \"ticks\": \"\"}, \"colorscale\": [[0.0, \"#0d0887\"], [0.1111111111111111, \"#46039f\"], [0.2222222222222222, \"#7201a8\"], [0.3333333333333333, \"#9c179e\"], [0.4444444444444444, \"#bd3786\"], [0.5555555555555556, \"#d8576b\"], [0.6666666666666666, \"#ed7953\"], [0.7777777777777778, \"#fb9f3a\"], [0.8888888888888888, \"#fdca26\"], [1.0, \"#f0f921\"]], \"type\": \"contour\"}], \"contourcarpet\": [{\"colorbar\": {\"outlinewidth\": 0, \"ticks\": \"\"}, \"type\": \"contourcarpet\"}], \"heatmap\": [{\"colorbar\": {\"outlinewidth\": 0, \"ticks\": \"\"}, \"colorscale\": [[0.0, \"#0d0887\"], [0.1111111111111111, \"#46039f\"], [0.2222222222222222, \"#7201a8\"], [0.3333333333333333, \"#9c179e\"], [0.4444444444444444, \"#bd3786\"], [0.5555555555555556, \"#d8576b\"], [0.6666666666666666, \"#ed7953\"], [0.7777777777777778, \"#fb9f3a\"], [0.8888888888888888, \"#fdca26\"], [1.0, \"#f0f921\"]], \"type\": \"heatmap\"}], \"heatmapgl\": [{\"colorbar\": {\"outlinewidth\": 0, \"ticks\": \"\"}, \"colorscale\": [[0.0, \"#0d0887\"], [0.1111111111111111, \"#46039f\"], [0.2222222222222222, \"#7201a8\"], [0.3333333333333333, \"#9c179e\"], [0.4444444444444444, \"#bd3786\"], [0.5555555555555556, \"#d8576b\"], [0.6666666666666666, \"#ed7953\"], [0.7777777777777778, \"#fb9f3a\"], [0.8888888888888888, \"#fdca26\"], [1.0, \"#f0f921\"]], \"type\": \"heatmapgl\"}], \"histogram\": [{\"marker\": {\"colorbar\": {\"outlinewidth\": 0, \"ticks\": \"\"}}, \"type\": \"histogram\"}], \"histogram2d\": [{\"colorbar\": {\"outlinewidth\": 0, \"ticks\": \"\"}, \"colorscale\": [[0.0, \"#0d0887\"], [0.1111111111111111, \"#46039f\"], [0.2222222222222222, \"#7201a8\"], [0.3333333333333333, \"#9c179e\"], [0.4444444444444444, \"#bd3786\"], [0.5555555555555556, \"#d8576b\"], [0.6666666666666666, \"#ed7953\"], [0.7777777777777778, \"#fb9f3a\"], [0.8888888888888888, \"#fdca26\"], [1.0, \"#f0f921\"]], \"type\": \"histogram2d\"}], \"histogram2dcontour\": [{\"colorbar\": {\"outlinewidth\": 0, \"ticks\": \"\"}, \"colorscale\": [[0.0, \"#0d0887\"], [0.1111111111111111, \"#46039f\"], [0.2222222222222222, \"#7201a8\"], [0.3333333333333333, \"#9c179e\"], [0.4444444444444444, \"#bd3786\"], [0.5555555555555556, \"#d8576b\"], [0.6666666666666666, \"#ed7953\"], [0.7777777777777778, \"#fb9f3a\"], [0.8888888888888888, \"#fdca26\"], [1.0, \"#f0f921\"]], \"type\": \"histogram2dcontour\"}], \"mesh3d\": [{\"colorbar\": {\"outlinewidth\": 0, \"ticks\": \"\"}, \"type\": \"mesh3d\"}], \"parcoords\": [{\"line\": {\"colorbar\": {\"outlinewidth\": 0, \"ticks\": \"\"}}, \"type\": \"parcoords\"}], \"pie\": [{\"automargin\": true, \"type\": \"pie\"}], \"scatter\": [{\"marker\": {\"colorbar\": {\"outlinewidth\": 0, \"ticks\": \"\"}}, \"type\": \"scatter\"}], \"scatter3d\": [{\"line\": {\"colorbar\": {\"outlinewidth\": 0, \"ticks\": \"\"}}, \"marker\": {\"colorbar\": {\"outlinewidth\": 0, \"ticks\": \"\"}}, \"type\": \"scatter3d\"}], \"scattercarpet\": [{\"marker\": {\"colorbar\": {\"outlinewidth\": 0, \"ticks\": \"\"}}, \"type\": \"scattercarpet\"}], \"scattergeo\": [{\"marker\": {\"colorbar\": {\"outlinewidth\": 0, \"ticks\": \"\"}}, \"type\": \"scattergeo\"}], \"scattergl\": [{\"marker\": {\"colorbar\": {\"outlinewidth\": 0, \"ticks\": \"\"}}, \"type\": \"scattergl\"}], \"scattermapbox\": [{\"marker\": {\"colorbar\": {\"outlinewidth\": 0, \"ticks\": \"\"}}, \"type\": \"scattermapbox\"}], \"scatterpolar\": [{\"marker\": {\"colorbar\": {\"outlinewidth\": 0, \"ticks\": \"\"}}, \"type\": \"scatterpolar\"}], \"scatterpolargl\": [{\"marker\": {\"colorbar\": {\"outlinewidth\": 0, \"ticks\": \"\"}}, \"type\": \"scatterpolargl\"}], \"scatterternary\": [{\"marker\": {\"colorbar\": {\"outlinewidth\": 0, \"ticks\": \"\"}}, \"type\": \"scatterternary\"}], \"surface\": [{\"colorbar\": {\"outlinewidth\": 0, \"ticks\": \"\"}, \"colorscale\": [[0.0, \"#0d0887\"], [0.1111111111111111, \"#46039f\"], [0.2222222222222222, \"#7201a8\"], [0.3333333333333333, \"#9c179e\"], [0.4444444444444444, \"#bd3786\"], [0.5555555555555556, \"#d8576b\"], [0.6666666666666666, \"#ed7953\"], [0.7777777777777778, \"#fb9f3a\"], [0.8888888888888888, \"#fdca26\"], [1.0, \"#f0f921\"]], \"type\": \"surface\"}], \"table\": [{\"cells\": {\"fill\": {\"color\": \"#EBF0F8\"}, \"line\": {\"color\": \"white\"}}, \"header\": {\"fill\": {\"color\": \"#C8D4E3\"}, \"line\": {\"color\": \"white\"}}, \"type\": \"table\"}]}, \"layout\": {\"annotationdefaults\": {\"arrowcolor\": \"#2a3f5f\", \"arrowhead\": 0, \"arrowwidth\": 1}, \"coloraxis\": {\"colorbar\": {\"outlinewidth\": 0, \"ticks\": \"\"}}, \"colorscale\": {\"diverging\": [[0, \"#8e0152\"], [0.1, \"#c51b7d\"], [0.2, \"#de77ae\"], [0.3, \"#f1b6da\"], [0.4, \"#fde0ef\"], [0.5, \"#f7f7f7\"], [0.6, \"#e6f5d0\"], [0.7, \"#b8e186\"], [0.8, \"#7fbc41\"], [0.9, \"#4d9221\"], [1, \"#276419\"]], \"sequential\": [[0.0, \"#0d0887\"], [0.1111111111111111, \"#46039f\"], [0.2222222222222222, \"#7201a8\"], [0.3333333333333333, \"#9c179e\"], [0.4444444444444444, \"#bd3786\"], [0.5555555555555556, \"#d8576b\"], [0.6666666666666666, \"#ed7953\"], [0.7777777777777778, \"#fb9f3a\"], [0.8888888888888888, \"#fdca26\"], [1.0, \"#f0f921\"]], \"sequentialminus\": [[0.0, \"#0d0887\"], [0.1111111111111111, \"#46039f\"], [0.2222222222222222, \"#7201a8\"], [0.3333333333333333, \"#9c179e\"], [0.4444444444444444, \"#bd3786\"], [0.5555555555555556, \"#d8576b\"], [0.6666666666666666, \"#ed7953\"], [0.7777777777777778, \"#fb9f3a\"], [0.8888888888888888, \"#fdca26\"], [1.0, \"#f0f921\"]]}, \"colorway\": [\"#636efa\", \"#EF553B\", \"#00cc96\", \"#ab63fa\", \"#FFA15A\", \"#19d3f3\", \"#FF6692\", \"#B6E880\", \"#FF97FF\", \"#FECB52\"], \"font\": {\"color\": \"#2a3f5f\"}, \"geo\": {\"bgcolor\": \"white\", \"lakecolor\": \"white\", \"landcolor\": \"#E5ECF6\", \"showlakes\": true, \"showland\": true, \"subunitcolor\": \"white\"}, \"hoverlabel\": {\"align\": \"left\"}, \"hovermode\": \"closest\", \"mapbox\": {\"style\": \"light\"}, \"paper_bgcolor\": \"white\", \"plot_bgcolor\": \"#E5ECF6\", \"polar\": {\"angularaxis\": {\"gridcolor\": \"white\", \"linecolor\": \"white\", \"ticks\": \"\"}, \"bgcolor\": \"#E5ECF6\", \"radialaxis\": {\"gridcolor\": \"white\", \"linecolor\": \"white\", \"ticks\": \"\"}}, \"scene\": {\"xaxis\": {\"backgroundcolor\": \"#E5ECF6\", \"gridcolor\": \"white\", \"gridwidth\": 2, \"linecolor\": \"white\", \"showbackground\": true, \"ticks\": \"\", \"zerolinecolor\": \"white\"}, \"yaxis\": {\"backgroundcolor\": \"#E5ECF6\", \"gridcolor\": \"white\", \"gridwidth\": 2, \"linecolor\": \"white\", \"showbackground\": true, \"ticks\": \"\", \"zerolinecolor\": \"white\"}, \"zaxis\": {\"backgroundcolor\": \"#E5ECF6\", \"gridcolor\": \"white\", \"gridwidth\": 2, \"linecolor\": \"white\", \"showbackground\": true, \"ticks\": \"\", \"zerolinecolor\": \"white\"}}, \"shapedefaults\": {\"line\": {\"color\": \"#2a3f5f\"}}, \"ternary\": {\"aaxis\": {\"gridcolor\": \"white\", \"linecolor\": \"white\", \"ticks\": \"\"}, \"baxis\": {\"gridcolor\": \"white\", \"linecolor\": \"white\", \"ticks\": \"\"}, \"bgcolor\": \"#E5ECF6\", \"caxis\": {\"gridcolor\": \"white\", \"linecolor\": \"white\", \"ticks\": \"\"}}, \"title\": {\"x\": 0.05}, \"xaxis\": {\"automargin\": true, \"gridcolor\": \"white\", \"linecolor\": \"white\", \"ticks\": \"\", \"title\": {\"standoff\": 15}, \"zerolinecolor\": \"white\", \"zerolinewidth\": 2}, \"yaxis\": {\"automargin\": true, \"gridcolor\": \"white\", \"linecolor\": \"white\", \"ticks\": \"\", \"title\": {\"standoff\": 15}, \"zerolinecolor\": \"white\", \"zerolinewidth\": 2}}}, \"title\": {\"font\": {\"color\": \"#4D5663\"}, \"text\": \"\\u7c2a\\u4e2d\\u5f55/\\u9752\\u7c2a\\u884c\"}, \"xaxis\": {\"gridcolor\": \"#E1E5ED\", \"showgrid\": true, \"tickfont\": {\"color\": \"#4D5663\"}, \"title\": {\"font\": {\"color\": \"#4D5663\"}, \"text\": \"\"}, \"zerolinecolor\": \"#E1E5ED\"}, \"yaxis\": {\"gridcolor\": \"#E1E5ED\", \"showgrid\": true, \"tickfont\": {\"color\": \"#4D5663\"}, \"title\": {\"font\": {\"color\": \"#4D5663\"}, \"text\": \"\"}, \"zerolinecolor\": \"#E1E5ED\"}},\n                        {\"showLink\": true, \"linkText\": \"Export to plot.ly\", \"plotlyServerURL\": \"https://plot.ly\", \"responsive\": true}\n                    ).then(function(){\n                            \nvar gd = document.getElementById('ac6a0526-cbe3-4d08-b53a-4866eefb199a');\nvar x = new MutationObserver(function (mutations, observer) {{\n        var display = window.getComputedStyle(gd).display;\n        if (!display || display === 'none') {{\n            console.log([gd, 'removed!']);\n            Plotly.purge(gd);\n            observer.disconnect();\n        }}\n}});\n\n// Listen for the removal of the full notebook cells\nvar notebookContainer = gd.closest('#notebook-container');\nif (notebookContainer) {{\n    x.observe(notebookContainer, {childList: true});\n}}\n\n// Listen for the clearing of the current output cell\nvar outputEl = gd.closest('.output');\nif (outputEl) {{\n    x.observe(outputEl, {childList: true});\n}}\n\n                        })\n                };\n                });\n            </script>\n        </div>"
     },
     "metadata": {}
    }
   ],
   "source": [
    "key_words_data.iplot(kind='bar',barmode='stack',title='簪中录/青簪行', orientation='h')"
   ]
  },
  {
   "cell_type": "code",
   "execution_count": null,
   "metadata": {},
   "outputs": [],
   "source": []
  }
 ],
 "metadata": {
  "language_info": {
   "codemirror_mode": {
    "name": "ipython",
    "version": 3
   },
   "file_extension": ".py",
   "mimetype": "text/x-python",
   "name": "python",
   "nbconvert_exporter": "python",
   "pygments_lexer": "ipython3",
   "version": "3.7.1-final"
  },
  "orig_nbformat": 2,
  "kernelspec": {
   "name": "python3",
   "display_name": "Python 3"
  }
 },
 "nbformat": 4,
 "nbformat_minor": 2
}